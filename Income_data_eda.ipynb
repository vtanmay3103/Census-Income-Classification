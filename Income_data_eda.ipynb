{
  "nbformat": 4,
  "nbformat_minor": 0,
  "metadata": {
    "colab": {
      "name": "Income_data_eda.ipynb",
      "provenance": []
    },
    "kernelspec": {
      "name": "python3",
      "display_name": "Python 3"
    },
    "language_info": {
      "name": "python"
    },
    "widgets": {
      "application/vnd.jupyter.widget-state+json": {
        "4026c392171c43e2a70eb3711d817ebd": {
          "model_module": "@jupyter-widgets/controls",
          "model_name": "IntProgressModel",
          "state": {
            "_view_name": "ProgressView",
            "style": "IPY_MODEL_e6f80d3aef514b98be845ac490a90cbd",
            "_dom_classes": [],
            "description": "Processing: ",
            "_model_name": "IntProgressModel",
            "bar_style": "",
            "max": 3,
            "_view_module": "@jupyter-widgets/controls",
            "_model_module_version": "1.5.0",
            "value": 3,
            "_view_count": null,
            "_view_module_version": "1.5.0",
            "orientation": "horizontal",
            "min": 0,
            "description_tooltip": null,
            "_model_module": "@jupyter-widgets/controls",
            "layout": "IPY_MODEL_7bbef9ef0bcc491b802af7e9a2d2e75d"
          }
        },
        "e6f80d3aef514b98be845ac490a90cbd": {
          "model_module": "@jupyter-widgets/controls",
          "model_name": "ProgressStyleModel",
          "state": {
            "_view_name": "StyleView",
            "_model_name": "ProgressStyleModel",
            "description_width": "",
            "_view_module": "@jupyter-widgets/base",
            "_model_module_version": "1.5.0",
            "_view_count": null,
            "_view_module_version": "1.2.0",
            "bar_color": null,
            "_model_module": "@jupyter-widgets/controls"
          }
        },
        "7bbef9ef0bcc491b802af7e9a2d2e75d": {
          "model_module": "@jupyter-widgets/base",
          "model_name": "LayoutModel",
          "state": {
            "_view_name": "LayoutView",
            "grid_template_rows": null,
            "right": null,
            "justify_content": null,
            "_view_module": "@jupyter-widgets/base",
            "overflow": null,
            "_model_module_version": "1.2.0",
            "_view_count": null,
            "flex_flow": null,
            "width": null,
            "min_width": null,
            "border": null,
            "align_items": null,
            "bottom": null,
            "_model_module": "@jupyter-widgets/base",
            "top": null,
            "grid_column": null,
            "overflow_y": null,
            "overflow_x": null,
            "grid_auto_flow": null,
            "grid_area": null,
            "grid_template_columns": null,
            "flex": null,
            "_model_name": "LayoutModel",
            "justify_items": null,
            "grid_row": null,
            "max_height": null,
            "align_content": null,
            "visibility": null,
            "align_self": null,
            "height": null,
            "min_height": null,
            "padding": null,
            "grid_auto_rows": null,
            "grid_gap": null,
            "max_width": null,
            "order": null,
            "_view_module_version": "1.2.0",
            "grid_template_areas": null,
            "object_position": null,
            "object_fit": null,
            "grid_auto_columns": null,
            "margin": null,
            "display": null,
            "left": null
          }
        },
        "86ab61bb040f473f9b67087fddfa6f2f": {
          "model_module": "@jupyter-widgets/controls",
          "model_name": "TextModel",
          "state": {
            "_view_name": "TextView",
            "style": "IPY_MODEL_799b2a7b30ca45058e9443a4557c9ac2",
            "_dom_classes": [],
            "description": "",
            "_model_name": "TextModel",
            "placeholder": "​",
            "_view_module": "@jupyter-widgets/controls",
            "_model_module_version": "1.5.0",
            "value": "Following data types have been inferred automatically, if they are correct press enter to continue or type 'quit' otherwise.",
            "_view_count": null,
            "disabled": false,
            "_view_module_version": "1.5.0",
            "continuous_update": true,
            "description_tooltip": null,
            "_model_module": "@jupyter-widgets/controls",
            "layout": "IPY_MODEL_abd8bcbd9230403bb7164f6dd2764a2f"
          }
        },
        "799b2a7b30ca45058e9443a4557c9ac2": {
          "model_module": "@jupyter-widgets/controls",
          "model_name": "DescriptionStyleModel",
          "state": {
            "_view_name": "StyleView",
            "_model_name": "DescriptionStyleModel",
            "description_width": "",
            "_view_module": "@jupyter-widgets/base",
            "_model_module_version": "1.5.0",
            "_view_count": null,
            "_view_module_version": "1.2.0",
            "_model_module": "@jupyter-widgets/controls"
          }
        },
        "abd8bcbd9230403bb7164f6dd2764a2f": {
          "model_module": "@jupyter-widgets/base",
          "model_name": "LayoutModel",
          "state": {
            "_view_name": "LayoutView",
            "grid_template_rows": null,
            "right": null,
            "justify_content": null,
            "_view_module": "@jupyter-widgets/base",
            "overflow": null,
            "_model_module_version": "1.2.0",
            "_view_count": null,
            "flex_flow": null,
            "width": "100%",
            "min_width": null,
            "border": null,
            "align_items": null,
            "bottom": null,
            "_model_module": "@jupyter-widgets/base",
            "top": null,
            "grid_column": null,
            "overflow_y": null,
            "overflow_x": null,
            "grid_auto_flow": null,
            "grid_area": null,
            "grid_template_columns": null,
            "flex": null,
            "_model_name": "LayoutModel",
            "justify_items": null,
            "grid_row": null,
            "max_height": null,
            "align_content": null,
            "visibility": null,
            "align_self": null,
            "height": null,
            "min_height": null,
            "padding": null,
            "grid_auto_rows": null,
            "grid_gap": null,
            "max_width": null,
            "order": null,
            "_view_module_version": "1.2.0",
            "grid_template_areas": null,
            "object_position": null,
            "object_fit": null,
            "grid_auto_columns": null,
            "margin": null,
            "display": null,
            "left": null
          }
        },
        "c535a2cb12004bab80c6eb33b37f4e9f": {
          "model_module": "@jupyter-widgets/controls",
          "model_name": "IntProgressModel",
          "state": {
            "_view_name": "ProgressView",
            "style": "IPY_MODEL_6c57c06974bf4dd7a59bd3286787cc14",
            "_dom_classes": [],
            "description": "Processing: ",
            "_model_name": "IntProgressModel",
            "bar_style": "",
            "max": 69,
            "_view_module": "@jupyter-widgets/controls",
            "_model_module_version": "1.5.0",
            "value": 69,
            "_view_count": null,
            "_view_module_version": "1.5.0",
            "orientation": "horizontal",
            "min": 0,
            "description_tooltip": null,
            "_model_module": "@jupyter-widgets/controls",
            "layout": "IPY_MODEL_38892ef1bc0e4950ad6cbeda18a7e58e"
          }
        },
        "6c57c06974bf4dd7a59bd3286787cc14": {
          "model_module": "@jupyter-widgets/controls",
          "model_name": "ProgressStyleModel",
          "state": {
            "_view_name": "StyleView",
            "_model_name": "ProgressStyleModel",
            "description_width": "",
            "_view_module": "@jupyter-widgets/base",
            "_model_module_version": "1.5.0",
            "_view_count": null,
            "_view_module_version": "1.2.0",
            "bar_color": null,
            "_model_module": "@jupyter-widgets/controls"
          }
        },
        "38892ef1bc0e4950ad6cbeda18a7e58e": {
          "model_module": "@jupyter-widgets/base",
          "model_name": "LayoutModel",
          "state": {
            "_view_name": "LayoutView",
            "grid_template_rows": null,
            "right": null,
            "justify_content": null,
            "_view_module": "@jupyter-widgets/base",
            "overflow": null,
            "_model_module_version": "1.2.0",
            "_view_count": null,
            "flex_flow": null,
            "width": null,
            "min_width": null,
            "border": null,
            "align_items": null,
            "bottom": null,
            "_model_module": "@jupyter-widgets/base",
            "top": null,
            "grid_column": null,
            "overflow_y": null,
            "overflow_x": null,
            "grid_auto_flow": null,
            "grid_area": null,
            "grid_template_columns": null,
            "flex": null,
            "_model_name": "LayoutModel",
            "justify_items": null,
            "grid_row": null,
            "max_height": null,
            "align_content": null,
            "visibility": null,
            "align_self": null,
            "height": null,
            "min_height": null,
            "padding": null,
            "grid_auto_rows": null,
            "grid_gap": null,
            "max_width": null,
            "order": null,
            "_view_module_version": "1.2.0",
            "grid_template_areas": null,
            "object_position": null,
            "object_fit": null,
            "grid_auto_columns": null,
            "margin": null,
            "display": null,
            "left": null
          }
        }
      }
    }
  },
  "cells": [
    {
      "cell_type": "code",
      "metadata": {
        "id": "NjvrFiw1dSUO"
      },
      "source": [
        ""
      ],
      "execution_count": 1,
      "outputs": []
    },
    {
      "cell_type": "code",
      "metadata": {
        "id": "21FlcmEKgarD"
      },
      "source": [
        "#https://archive.ics.uci.edu/ml/machine-learning-databases/adult/adult.data"
      ],
      "execution_count": 2,
      "outputs": []
    },
    {
      "cell_type": "markdown",
      "metadata": {
        "id": "_FHFki_4g9xj"
      },
      "source": [
        "# **Original Dataset**\n"
      ]
    },
    {
      "cell_type": "code",
      "metadata": {
        "id": "BrMqeaICgqP3"
      },
      "source": [
        "#pip install opendatasets"
      ],
      "execution_count": 3,
      "outputs": []
    },
    {
      "cell_type": "code",
      "metadata": {
        "id": "WSjychX0gqNh"
      },
      "source": [
        "#import opendatasets as od\n",
        "import pandas as pd\n",
        "import numpy as np\n",
        "import matplotlib.pyplot as plt\n",
        "import seaborn as sns\n",
        "from sklearn.preprocessing import StandardScaler# sklearn.preprocessing.RobustScaler\n",
        "from scipy import stats\n",
        "\n",
        "from sklearn.linear_model import LogisticRegression\n",
        "from sklearn.svm import SVC\n",
        "from sklearn.neighbors import KNeighborsClassifier\n",
        "from sklearn.tree import DecisionTreeClassifier\n",
        "from sklearn.ensemble import RandomForestClassifier\n",
        "from sklearn.model_selection import train_test_split\n",
        "from sklearn.metrics import f1_score\n",
        "from sklearn.model_selection import cross_val_score"
      ],
      "execution_count": 4,
      "outputs": []
    },
    {
      "cell_type": "code",
      "metadata": {
        "id": "uZZSCz0yHq6o"
      },
      "source": [
        "def counts(column_name):\n",
        "  a = df_original[column_name].value_counts()\n",
        "  return a"
      ],
      "execution_count": 5,
      "outputs": []
    },
    {
      "cell_type": "code",
      "metadata": {
        "id": "9dxLVrRjgqLB"
      },
      "source": [
        "#od.download(\"https://archive.ics.uci.edu/ml/machine-learning-databases/adult/adult.data\")"
      ],
      "execution_count": 6,
      "outputs": []
    },
    {
      "cell_type": "code",
      "metadata": {
        "id": "hJG6dKEVgqIm"
      },
      "source": [
        "df_original = pd.read_csv(\"/content/adult.csv\")"
      ],
      "execution_count": 7,
      "outputs": []
    },
    {
      "cell_type": "code",
      "metadata": {
        "colab": {
          "base_uri": "https://localhost:8080/"
        },
        "id": "NiKP56a3gqGd",
        "outputId": "f8191141-ec5b-435a-d403-b3467a449c62"
      },
      "source": [
        "print(df_original.columns)"
      ],
      "execution_count": 8,
      "outputs": [
        {
          "output_type": "stream",
          "text": [
            "Index(['age', 'workclass', 'fnlwgt', 'education', 'education-num',\n",
            "       'marital-status', 'occupation', 'relationship', 'race', 'sex',\n",
            "       'capital-gain', 'capital-los', 'hours-per-week', 'native-country',\n",
            "       'Income'],\n",
            "      dtype='object')\n"
          ],
          "name": "stdout"
        }
      ]
    },
    {
      "cell_type": "code",
      "metadata": {
        "colab": {
          "base_uri": "https://localhost:8080/",
          "height": 371
        },
        "id": "fNeIInH7gqD5",
        "outputId": "858a248e-d6ae-4040-9a02-05a94f2bc457"
      },
      "source": [
        "df_original.head(5)"
      ],
      "execution_count": 9,
      "outputs": [
        {
          "output_type": "execute_result",
          "data": {
            "text/html": [
              "<div>\n",
              "<style scoped>\n",
              "    .dataframe tbody tr th:only-of-type {\n",
              "        vertical-align: middle;\n",
              "    }\n",
              "\n",
              "    .dataframe tbody tr th {\n",
              "        vertical-align: top;\n",
              "    }\n",
              "\n",
              "    .dataframe thead th {\n",
              "        text-align: right;\n",
              "    }\n",
              "</style>\n",
              "<table border=\"1\" class=\"dataframe\">\n",
              "  <thead>\n",
              "    <tr style=\"text-align: right;\">\n",
              "      <th></th>\n",
              "      <th>age</th>\n",
              "      <th>workclass</th>\n",
              "      <th>fnlwgt</th>\n",
              "      <th>education</th>\n",
              "      <th>education-num</th>\n",
              "      <th>marital-status</th>\n",
              "      <th>occupation</th>\n",
              "      <th>relationship</th>\n",
              "      <th>race</th>\n",
              "      <th>sex</th>\n",
              "      <th>capital-gain</th>\n",
              "      <th>capital-los</th>\n",
              "      <th>hours-per-week</th>\n",
              "      <th>native-country</th>\n",
              "      <th>Income</th>\n",
              "    </tr>\n",
              "  </thead>\n",
              "  <tbody>\n",
              "    <tr>\n",
              "      <th>0</th>\n",
              "      <td>39</td>\n",
              "      <td>State-gov</td>\n",
              "      <td>77516</td>\n",
              "      <td>Bachelors</td>\n",
              "      <td>13</td>\n",
              "      <td>Never-married</td>\n",
              "      <td>Adm-clerical</td>\n",
              "      <td>Not-in-family</td>\n",
              "      <td>White</td>\n",
              "      <td>Male</td>\n",
              "      <td>2174</td>\n",
              "      <td>0</td>\n",
              "      <td>40</td>\n",
              "      <td>United-States</td>\n",
              "      <td>&lt;=50K</td>\n",
              "    </tr>\n",
              "    <tr>\n",
              "      <th>1</th>\n",
              "      <td>50</td>\n",
              "      <td>Self-emp-not-inc</td>\n",
              "      <td>83311</td>\n",
              "      <td>Bachelors</td>\n",
              "      <td>13</td>\n",
              "      <td>Married-civ-spouse</td>\n",
              "      <td>Exec-managerial</td>\n",
              "      <td>Husband</td>\n",
              "      <td>White</td>\n",
              "      <td>Male</td>\n",
              "      <td>0</td>\n",
              "      <td>0</td>\n",
              "      <td>13</td>\n",
              "      <td>United-States</td>\n",
              "      <td>&lt;=50K</td>\n",
              "    </tr>\n",
              "    <tr>\n",
              "      <th>2</th>\n",
              "      <td>38</td>\n",
              "      <td>Private</td>\n",
              "      <td>215646</td>\n",
              "      <td>HS-grad</td>\n",
              "      <td>9</td>\n",
              "      <td>Divorced</td>\n",
              "      <td>Handlers-cleaners</td>\n",
              "      <td>Not-in-family</td>\n",
              "      <td>White</td>\n",
              "      <td>Male</td>\n",
              "      <td>0</td>\n",
              "      <td>0</td>\n",
              "      <td>40</td>\n",
              "      <td>United-States</td>\n",
              "      <td>&lt;=50K</td>\n",
              "    </tr>\n",
              "    <tr>\n",
              "      <th>3</th>\n",
              "      <td>53</td>\n",
              "      <td>Private</td>\n",
              "      <td>234721</td>\n",
              "      <td>11th</td>\n",
              "      <td>7</td>\n",
              "      <td>Married-civ-spouse</td>\n",
              "      <td>Handlers-cleaners</td>\n",
              "      <td>Husband</td>\n",
              "      <td>Black</td>\n",
              "      <td>Male</td>\n",
              "      <td>0</td>\n",
              "      <td>0</td>\n",
              "      <td>40</td>\n",
              "      <td>United-States</td>\n",
              "      <td>&lt;=50K</td>\n",
              "    </tr>\n",
              "    <tr>\n",
              "      <th>4</th>\n",
              "      <td>28</td>\n",
              "      <td>Private</td>\n",
              "      <td>338409</td>\n",
              "      <td>Bachelors</td>\n",
              "      <td>13</td>\n",
              "      <td>Married-civ-spouse</td>\n",
              "      <td>Prof-specialty</td>\n",
              "      <td>Wife</td>\n",
              "      <td>Black</td>\n",
              "      <td>Female</td>\n",
              "      <td>0</td>\n",
              "      <td>0</td>\n",
              "      <td>40</td>\n",
              "      <td>Cuba</td>\n",
              "      <td>&lt;=50K</td>\n",
              "    </tr>\n",
              "  </tbody>\n",
              "</table>\n",
              "</div>"
            ],
            "text/plain": [
              "   age         workclass  fnlwgt  education  education-num  \\\n",
              "0   39         State-gov   77516  Bachelors             13   \n",
              "1   50  Self-emp-not-inc   83311  Bachelors             13   \n",
              "2   38           Private  215646    HS-grad              9   \n",
              "3   53           Private  234721       11th              7   \n",
              "4   28           Private  338409  Bachelors             13   \n",
              "\n",
              "       marital-status         occupation   relationship   race     sex  \\\n",
              "0       Never-married       Adm-clerical  Not-in-family  White    Male   \n",
              "1  Married-civ-spouse    Exec-managerial        Husband  White    Male   \n",
              "2            Divorced  Handlers-cleaners  Not-in-family  White    Male   \n",
              "3  Married-civ-spouse  Handlers-cleaners        Husband  Black    Male   \n",
              "4  Married-civ-spouse     Prof-specialty           Wife  Black  Female   \n",
              "\n",
              "   capital-gain  capital-los  hours-per-week native-country Income  \n",
              "0          2174            0              40  United-States  <=50K  \n",
              "1             0            0              13  United-States  <=50K  \n",
              "2             0            0              40  United-States  <=50K  \n",
              "3             0            0              40  United-States  <=50K  \n",
              "4             0            0              40           Cuba  <=50K  "
            ]
          },
          "metadata": {
            "tags": []
          },
          "execution_count": 9
        }
      ]
    },
    {
      "cell_type": "code",
      "metadata": {
        "colab": {
          "base_uri": "https://localhost:8080/",
          "height": 295
        },
        "id": "4OSs4K5pgqBo",
        "outputId": "4468f397-befa-4b9c-80b5-b38795ee7f0b"
      },
      "source": [
        "df_original.describe()"
      ],
      "execution_count": 10,
      "outputs": [
        {
          "output_type": "execute_result",
          "data": {
            "text/html": [
              "<div>\n",
              "<style scoped>\n",
              "    .dataframe tbody tr th:only-of-type {\n",
              "        vertical-align: middle;\n",
              "    }\n",
              "\n",
              "    .dataframe tbody tr th {\n",
              "        vertical-align: top;\n",
              "    }\n",
              "\n",
              "    .dataframe thead th {\n",
              "        text-align: right;\n",
              "    }\n",
              "</style>\n",
              "<table border=\"1\" class=\"dataframe\">\n",
              "  <thead>\n",
              "    <tr style=\"text-align: right;\">\n",
              "      <th></th>\n",
              "      <th>age</th>\n",
              "      <th>fnlwgt</th>\n",
              "      <th>education-num</th>\n",
              "      <th>capital-gain</th>\n",
              "      <th>capital-los</th>\n",
              "      <th>hours-per-week</th>\n",
              "    </tr>\n",
              "  </thead>\n",
              "  <tbody>\n",
              "    <tr>\n",
              "      <th>count</th>\n",
              "      <td>32561.000000</td>\n",
              "      <td>3.256100e+04</td>\n",
              "      <td>32561.000000</td>\n",
              "      <td>32561.000000</td>\n",
              "      <td>32561.000000</td>\n",
              "      <td>32561.000000</td>\n",
              "    </tr>\n",
              "    <tr>\n",
              "      <th>mean</th>\n",
              "      <td>38.581647</td>\n",
              "      <td>1.897784e+05</td>\n",
              "      <td>10.080679</td>\n",
              "      <td>1077.648844</td>\n",
              "      <td>87.303830</td>\n",
              "      <td>40.437456</td>\n",
              "    </tr>\n",
              "    <tr>\n",
              "      <th>std</th>\n",
              "      <td>13.640433</td>\n",
              "      <td>1.055500e+05</td>\n",
              "      <td>2.572720</td>\n",
              "      <td>7385.292085</td>\n",
              "      <td>402.960219</td>\n",
              "      <td>12.347429</td>\n",
              "    </tr>\n",
              "    <tr>\n",
              "      <th>min</th>\n",
              "      <td>17.000000</td>\n",
              "      <td>1.228500e+04</td>\n",
              "      <td>1.000000</td>\n",
              "      <td>0.000000</td>\n",
              "      <td>0.000000</td>\n",
              "      <td>1.000000</td>\n",
              "    </tr>\n",
              "    <tr>\n",
              "      <th>25%</th>\n",
              "      <td>28.000000</td>\n",
              "      <td>1.178270e+05</td>\n",
              "      <td>9.000000</td>\n",
              "      <td>0.000000</td>\n",
              "      <td>0.000000</td>\n",
              "      <td>40.000000</td>\n",
              "    </tr>\n",
              "    <tr>\n",
              "      <th>50%</th>\n",
              "      <td>37.000000</td>\n",
              "      <td>1.783560e+05</td>\n",
              "      <td>10.000000</td>\n",
              "      <td>0.000000</td>\n",
              "      <td>0.000000</td>\n",
              "      <td>40.000000</td>\n",
              "    </tr>\n",
              "    <tr>\n",
              "      <th>75%</th>\n",
              "      <td>48.000000</td>\n",
              "      <td>2.370510e+05</td>\n",
              "      <td>12.000000</td>\n",
              "      <td>0.000000</td>\n",
              "      <td>0.000000</td>\n",
              "      <td>45.000000</td>\n",
              "    </tr>\n",
              "    <tr>\n",
              "      <th>max</th>\n",
              "      <td>90.000000</td>\n",
              "      <td>1.484705e+06</td>\n",
              "      <td>16.000000</td>\n",
              "      <td>99999.000000</td>\n",
              "      <td>4356.000000</td>\n",
              "      <td>99.000000</td>\n",
              "    </tr>\n",
              "  </tbody>\n",
              "</table>\n",
              "</div>"
            ],
            "text/plain": [
              "                age        fnlwgt  education-num  capital-gain   capital-los  \\\n",
              "count  32561.000000  3.256100e+04   32561.000000  32561.000000  32561.000000   \n",
              "mean      38.581647  1.897784e+05      10.080679   1077.648844     87.303830   \n",
              "std       13.640433  1.055500e+05       2.572720   7385.292085    402.960219   \n",
              "min       17.000000  1.228500e+04       1.000000      0.000000      0.000000   \n",
              "25%       28.000000  1.178270e+05       9.000000      0.000000      0.000000   \n",
              "50%       37.000000  1.783560e+05      10.000000      0.000000      0.000000   \n",
              "75%       48.000000  2.370510e+05      12.000000      0.000000      0.000000   \n",
              "max       90.000000  1.484705e+06      16.000000  99999.000000   4356.000000   \n",
              "\n",
              "       hours-per-week  \n",
              "count    32561.000000  \n",
              "mean        40.437456  \n",
              "std         12.347429  \n",
              "min          1.000000  \n",
              "25%         40.000000  \n",
              "50%         40.000000  \n",
              "75%         45.000000  \n",
              "max         99.000000  "
            ]
          },
          "metadata": {
            "tags": []
          },
          "execution_count": 10
        }
      ]
    },
    {
      "cell_type": "code",
      "metadata": {
        "colab": {
          "base_uri": "https://localhost:8080/"
        },
        "id": "kUke3HVcgp_c",
        "outputId": "35267edb-9e97-42fc-96f7-057ff0825b58"
      },
      "source": [
        "df_original.info()"
      ],
      "execution_count": 11,
      "outputs": [
        {
          "output_type": "stream",
          "text": [
            "<class 'pandas.core.frame.DataFrame'>\n",
            "RangeIndex: 32561 entries, 0 to 32560\n",
            "Data columns (total 15 columns):\n",
            " #   Column          Non-Null Count  Dtype \n",
            "---  ------          --------------  ----- \n",
            " 0   age             32561 non-null  int64 \n",
            " 1   workclass       32561 non-null  object\n",
            " 2   fnlwgt          32561 non-null  int64 \n",
            " 3   education       32561 non-null  object\n",
            " 4   education-num   32561 non-null  int64 \n",
            " 5   marital-status  32561 non-null  object\n",
            " 6   occupation      32561 non-null  object\n",
            " 7   relationship    32561 non-null  object\n",
            " 8   race            32561 non-null  object\n",
            " 9   sex             32561 non-null  object\n",
            " 10  capital-gain    32561 non-null  int64 \n",
            " 11  capital-los     32561 non-null  int64 \n",
            " 12  hours-per-week  32561 non-null  int64 \n",
            " 13  native-country  32561 non-null  object\n",
            " 14  Income          32561 non-null  object\n",
            "dtypes: int64(6), object(9)\n",
            "memory usage: 3.7+ MB\n"
          ],
          "name": "stdout"
        }
      ]
    },
    {
      "cell_type": "code",
      "metadata": {
        "colab": {
          "base_uri": "https://localhost:8080/",
          "height": 234
        },
        "id": "rwdWhpD7d2uW",
        "outputId": "1c37bb4d-9694-4808-f96f-eede5b5daa0d"
      },
      "source": [
        "df_original.corr()"
      ],
      "execution_count": 12,
      "outputs": [
        {
          "output_type": "execute_result",
          "data": {
            "text/html": [
              "<div>\n",
              "<style scoped>\n",
              "    .dataframe tbody tr th:only-of-type {\n",
              "        vertical-align: middle;\n",
              "    }\n",
              "\n",
              "    .dataframe tbody tr th {\n",
              "        vertical-align: top;\n",
              "    }\n",
              "\n",
              "    .dataframe thead th {\n",
              "        text-align: right;\n",
              "    }\n",
              "</style>\n",
              "<table border=\"1\" class=\"dataframe\">\n",
              "  <thead>\n",
              "    <tr style=\"text-align: right;\">\n",
              "      <th></th>\n",
              "      <th>age</th>\n",
              "      <th>fnlwgt</th>\n",
              "      <th>education-num</th>\n",
              "      <th>capital-gain</th>\n",
              "      <th>capital-los</th>\n",
              "      <th>hours-per-week</th>\n",
              "    </tr>\n",
              "  </thead>\n",
              "  <tbody>\n",
              "    <tr>\n",
              "      <th>age</th>\n",
              "      <td>1.000000</td>\n",
              "      <td>-0.076646</td>\n",
              "      <td>0.036527</td>\n",
              "      <td>0.077674</td>\n",
              "      <td>0.057775</td>\n",
              "      <td>0.068756</td>\n",
              "    </tr>\n",
              "    <tr>\n",
              "      <th>fnlwgt</th>\n",
              "      <td>-0.076646</td>\n",
              "      <td>1.000000</td>\n",
              "      <td>-0.043195</td>\n",
              "      <td>0.000432</td>\n",
              "      <td>-0.010252</td>\n",
              "      <td>-0.018768</td>\n",
              "    </tr>\n",
              "    <tr>\n",
              "      <th>education-num</th>\n",
              "      <td>0.036527</td>\n",
              "      <td>-0.043195</td>\n",
              "      <td>1.000000</td>\n",
              "      <td>0.122630</td>\n",
              "      <td>0.079923</td>\n",
              "      <td>0.148123</td>\n",
              "    </tr>\n",
              "    <tr>\n",
              "      <th>capital-gain</th>\n",
              "      <td>0.077674</td>\n",
              "      <td>0.000432</td>\n",
              "      <td>0.122630</td>\n",
              "      <td>1.000000</td>\n",
              "      <td>-0.031615</td>\n",
              "      <td>0.078409</td>\n",
              "    </tr>\n",
              "    <tr>\n",
              "      <th>capital-los</th>\n",
              "      <td>0.057775</td>\n",
              "      <td>-0.010252</td>\n",
              "      <td>0.079923</td>\n",
              "      <td>-0.031615</td>\n",
              "      <td>1.000000</td>\n",
              "      <td>0.054256</td>\n",
              "    </tr>\n",
              "    <tr>\n",
              "      <th>hours-per-week</th>\n",
              "      <td>0.068756</td>\n",
              "      <td>-0.018768</td>\n",
              "      <td>0.148123</td>\n",
              "      <td>0.078409</td>\n",
              "      <td>0.054256</td>\n",
              "      <td>1.000000</td>\n",
              "    </tr>\n",
              "  </tbody>\n",
              "</table>\n",
              "</div>"
            ],
            "text/plain": [
              "                     age    fnlwgt  education-num  capital-gain  capital-los  \\\n",
              "age             1.000000 -0.076646       0.036527      0.077674     0.057775   \n",
              "fnlwgt         -0.076646  1.000000      -0.043195      0.000432    -0.010252   \n",
              "education-num   0.036527 -0.043195       1.000000      0.122630     0.079923   \n",
              "capital-gain    0.077674  0.000432       0.122630      1.000000    -0.031615   \n",
              "capital-los     0.057775 -0.010252       0.079923     -0.031615     1.000000   \n",
              "hours-per-week  0.068756 -0.018768       0.148123      0.078409     0.054256   \n",
              "\n",
              "                hours-per-week  \n",
              "age                   0.068756  \n",
              "fnlwgt               -0.018768  \n",
              "education-num         0.148123  \n",
              "capital-gain          0.078409  \n",
              "capital-los           0.054256  \n",
              "hours-per-week        1.000000  "
            ]
          },
          "metadata": {
            "tags": []
          },
          "execution_count": 12
        }
      ]
    },
    {
      "cell_type": "code",
      "metadata": {
        "colab": {
          "base_uri": "https://localhost:8080/"
        },
        "id": "8qKg3TrCeJ4j",
        "outputId": "599a972d-8c1c-4594-d2ad-1b6db6fec0bb"
      },
      "source": [
        "print('Income Less than 50k' , (df_original.Income.value_counts()[0]/len(df_original))*100,'%')\n",
        "print('Income More than 50k' , (df_original.Income.value_counts()[1]/len(df_original))*100,'%')"
      ],
      "execution_count": 13,
      "outputs": [
        {
          "output_type": "stream",
          "text": [
            "Income Less than 50k 75.91904425539757 %\n",
            "Income More than 50k 24.080955744602438 %\n"
          ],
          "name": "stdout"
        }
      ]
    },
    {
      "cell_type": "code",
      "metadata": {
        "colab": {
          "base_uri": "https://localhost:8080/"
        },
        "id": "hEorXIQRjIis",
        "outputId": "a834d6eb-1d24-454a-cb3d-2330db0ed595"
      },
      "source": [
        "print(len(df_original))"
      ],
      "execution_count": 14,
      "outputs": [
        {
          "output_type": "stream",
          "text": [
            "32561\n"
          ],
          "name": "stdout"
        }
      ]
    },
    {
      "cell_type": "markdown",
      "metadata": {
        "id": "-KXv1rEFhOL5"
      },
      "source": [
        "# EDA"
      ]
    },
    {
      "cell_type": "markdown",
      "metadata": {
        "id": "A1Cr5BB6kzaz"
      },
      "source": [
        "### Removing columns -'Capital-gain' , 'Capital-los'\n"
      ]
    },
    {
      "cell_type": "code",
      "metadata": {
        "colab": {
          "base_uri": "https://localhost:8080/",
          "height": 0
        },
        "id": "JJO96yDbkzE7",
        "outputId": "92946927-252e-4d95-cd0b-7959465716af"
      },
      "source": [
        "df_original.drop(['capital-gain','capital-los','fnlwgt','relationship'], axis=1,inplace = True)\n",
        "df_original.head(5)"
      ],
      "execution_count": 15,
      "outputs": [
        {
          "output_type": "execute_result",
          "data": {
            "text/html": [
              "<div>\n",
              "<style scoped>\n",
              "    .dataframe tbody tr th:only-of-type {\n",
              "        vertical-align: middle;\n",
              "    }\n",
              "\n",
              "    .dataframe tbody tr th {\n",
              "        vertical-align: top;\n",
              "    }\n",
              "\n",
              "    .dataframe thead th {\n",
              "        text-align: right;\n",
              "    }\n",
              "</style>\n",
              "<table border=\"1\" class=\"dataframe\">\n",
              "  <thead>\n",
              "    <tr style=\"text-align: right;\">\n",
              "      <th></th>\n",
              "      <th>age</th>\n",
              "      <th>workclass</th>\n",
              "      <th>education</th>\n",
              "      <th>education-num</th>\n",
              "      <th>marital-status</th>\n",
              "      <th>occupation</th>\n",
              "      <th>race</th>\n",
              "      <th>sex</th>\n",
              "      <th>hours-per-week</th>\n",
              "      <th>native-country</th>\n",
              "      <th>Income</th>\n",
              "    </tr>\n",
              "  </thead>\n",
              "  <tbody>\n",
              "    <tr>\n",
              "      <th>0</th>\n",
              "      <td>39</td>\n",
              "      <td>State-gov</td>\n",
              "      <td>Bachelors</td>\n",
              "      <td>13</td>\n",
              "      <td>Never-married</td>\n",
              "      <td>Adm-clerical</td>\n",
              "      <td>White</td>\n",
              "      <td>Male</td>\n",
              "      <td>40</td>\n",
              "      <td>United-States</td>\n",
              "      <td>&lt;=50K</td>\n",
              "    </tr>\n",
              "    <tr>\n",
              "      <th>1</th>\n",
              "      <td>50</td>\n",
              "      <td>Self-emp-not-inc</td>\n",
              "      <td>Bachelors</td>\n",
              "      <td>13</td>\n",
              "      <td>Married-civ-spouse</td>\n",
              "      <td>Exec-managerial</td>\n",
              "      <td>White</td>\n",
              "      <td>Male</td>\n",
              "      <td>13</td>\n",
              "      <td>United-States</td>\n",
              "      <td>&lt;=50K</td>\n",
              "    </tr>\n",
              "    <tr>\n",
              "      <th>2</th>\n",
              "      <td>38</td>\n",
              "      <td>Private</td>\n",
              "      <td>HS-grad</td>\n",
              "      <td>9</td>\n",
              "      <td>Divorced</td>\n",
              "      <td>Handlers-cleaners</td>\n",
              "      <td>White</td>\n",
              "      <td>Male</td>\n",
              "      <td>40</td>\n",
              "      <td>United-States</td>\n",
              "      <td>&lt;=50K</td>\n",
              "    </tr>\n",
              "    <tr>\n",
              "      <th>3</th>\n",
              "      <td>53</td>\n",
              "      <td>Private</td>\n",
              "      <td>11th</td>\n",
              "      <td>7</td>\n",
              "      <td>Married-civ-spouse</td>\n",
              "      <td>Handlers-cleaners</td>\n",
              "      <td>Black</td>\n",
              "      <td>Male</td>\n",
              "      <td>40</td>\n",
              "      <td>United-States</td>\n",
              "      <td>&lt;=50K</td>\n",
              "    </tr>\n",
              "    <tr>\n",
              "      <th>4</th>\n",
              "      <td>28</td>\n",
              "      <td>Private</td>\n",
              "      <td>Bachelors</td>\n",
              "      <td>13</td>\n",
              "      <td>Married-civ-spouse</td>\n",
              "      <td>Prof-specialty</td>\n",
              "      <td>Black</td>\n",
              "      <td>Female</td>\n",
              "      <td>40</td>\n",
              "      <td>Cuba</td>\n",
              "      <td>&lt;=50K</td>\n",
              "    </tr>\n",
              "  </tbody>\n",
              "</table>\n",
              "</div>"
            ],
            "text/plain": [
              "   age         workclass  education  education-num      marital-status  \\\n",
              "0   39         State-gov  Bachelors             13       Never-married   \n",
              "1   50  Self-emp-not-inc  Bachelors             13  Married-civ-spouse   \n",
              "2   38           Private    HS-grad              9            Divorced   \n",
              "3   53           Private       11th              7  Married-civ-spouse   \n",
              "4   28           Private  Bachelors             13  Married-civ-spouse   \n",
              "\n",
              "          occupation   race     sex  hours-per-week native-country Income  \n",
              "0       Adm-clerical  White    Male              40  United-States  <=50K  \n",
              "1    Exec-managerial  White    Male              13  United-States  <=50K  \n",
              "2  Handlers-cleaners  White    Male              40  United-States  <=50K  \n",
              "3  Handlers-cleaners  Black    Male              40  United-States  <=50K  \n",
              "4     Prof-specialty  Black  Female              40           Cuba  <=50K  "
            ]
          },
          "metadata": {
            "tags": []
          },
          "execution_count": 15
        }
      ]
    },
    {
      "cell_type": "markdown",
      "metadata": {
        "id": "IbaUqOfpiOpc"
      },
      "source": [
        "### Replacing missing values of 'workclass' with mode"
      ]
    },
    {
      "cell_type": "code",
      "metadata": {
        "colab": {
          "base_uri": "https://localhost:8080/"
        },
        "id": "hxbSxRiuh7iL",
        "outputId": "58a38331-571a-4bb5-8213-d2a1577256f7"
      },
      "source": [
        "def replace_nan_with_mode(column_names,df):\n",
        "    for column_name in df.columns:\n",
        "        mode_value = df[column_name].mode()[0]\n",
        "        df[column_name] = df[column_name].replace(\"?\", mode_value)\n",
        "    return\n",
        "\n",
        "li = [\"occupation\"]\n",
        "replace_nan_with_mode(li,df_original)\n",
        "counts('occupation')"
      ],
      "execution_count": 16,
      "outputs": [
        {
          "output_type": "execute_result",
          "data": {
            "text/plain": [
              "Prof-specialty       5983\n",
              "Craft-repair         4099\n",
              "Exec-managerial      4066\n",
              "Adm-clerical         3770\n",
              "Sales                3650\n",
              "Other-service        3295\n",
              "Machine-op-inspct    2002\n",
              "Transport-moving     1597\n",
              "Handlers-cleaners    1370\n",
              "Farming-fishing       994\n",
              "Tech-support          928\n",
              "Protective-serv       649\n",
              "Priv-house-serv       149\n",
              "Armed-Forces            9\n",
              "Name: occupation, dtype: int64"
            ]
          },
          "metadata": {
            "tags": []
          },
          "execution_count": 16
        }
      ]
    },
    {
      "cell_type": "markdown",
      "metadata": {
        "id": "0ODh2Mt5iogo"
      },
      "source": [
        "### Binning the categories"
      ]
    },
    {
      "cell_type": "markdown",
      "metadata": {
        "id": "6ygnDFJXN73Z"
      },
      "source": [
        "#### Education"
      ]
    },
    {
      "cell_type": "code",
      "metadata": {
        "colab": {
          "base_uri": "https://localhost:8080/"
        },
        "id": "ynJTwOAxilf0",
        "outputId": "334190a6-59d8-4111-b356-562bbf3c0814"
      },
      "source": [
        "li1 = [\"Doctorate\",\"Prof-school\"]\n",
        "li2 = ['11th','10th',\"9th\",\"12th\"]\n",
        "li3 = [\"5th-6th\",\"1st-4th\",\"Preschool\",\"7th-8th\"]\n",
        "df_original['education'] = df_original['education'].replace(li1, \"PHD lvl\")\n",
        "df_original['education'] = df_original['education'].replace(li2, \"High school\")\n",
        "df_original['education'] = df_original['education'].replace(li3, \"Junior school\")\n",
        "counts('education')"
      ],
      "execution_count": 17,
      "outputs": [
        {
          "output_type": "execute_result",
          "data": {
            "text/plain": [
              "HS-grad          10501\n",
              "Some-college      7291\n",
              "Bachelors         5355\n",
              "High school       3055\n",
              "Masters           1723\n",
              "Assoc-voc         1382\n",
              "Junior school     1198\n",
              "Assoc-acdm        1067\n",
              "PHD lvl            989\n",
              "Name: education, dtype: int64"
            ]
          },
          "metadata": {
            "tags": []
          },
          "execution_count": 17
        }
      ]
    },
    {
      "cell_type": "markdown",
      "metadata": {
        "id": "sufTVedsOIoq"
      },
      "source": [
        "#### Marital Status"
      ]
    },
    {
      "cell_type": "code",
      "metadata": {
        "colab": {
          "base_uri": "https://localhost:8080/"
        },
        "id": "IUydWCf6i-Nz",
        "outputId": "55ff1af8-e9d2-4378-96d3-6a316511102b"
      },
      "source": [
        "li = [\"Never-married\",\"Separated\",\"Married-spouse-absent\",\"Married-civ-spouse\"]\n",
        "df_original['marital-status'] = df_original['marital-status'].replace(li, \"Single\")\n",
        "counts('marital-status')"
      ],
      "execution_count": 18,
      "outputs": [
        {
          "output_type": "execute_result",
          "data": {
            "text/plain": [
              "Single               27102\n",
              "Divorced              4443\n",
              "Widowed                993\n",
              "Married-AF-spouse       23\n",
              "Name: marital-status, dtype: int64"
            ]
          },
          "metadata": {
            "tags": []
          },
          "execution_count": 18
        }
      ]
    },
    {
      "cell_type": "markdown",
      "metadata": {
        "id": "FxtAv5o1OLk7"
      },
      "source": [
        "#### Native Country"
      ]
    },
    {
      "cell_type": "code",
      "metadata": {
        "colab": {
          "base_uri": "https://localhost:8080/"
        },
        "id": "ZY2jGw18NT17",
        "outputId": "bd1bd117-aa0c-48b7-855c-9f8e505c3e2a"
      },
      "source": [
        "df_original[['native-country']]=df_original[['native-country']]=='United-States'\n",
        "counts('native-country')"
      ],
      "execution_count": 19,
      "outputs": [
        {
          "output_type": "execute_result",
          "data": {
            "text/plain": [
              "True     29753\n",
              "False     2808\n",
              "Name: native-country, dtype: int64"
            ]
          },
          "metadata": {
            "tags": []
          },
          "execution_count": 19
        }
      ]
    },
    {
      "cell_type": "code",
      "metadata": {
        "colab": {
          "base_uri": "https://localhost:8080/",
          "height": 0
        },
        "id": "dTBj-eVYNgJM",
        "outputId": "cc58d7b9-b437-492d-e103-9ca196a525ed"
      },
      "source": [
        "df_original['native-country'] = df_original['native-country'].replace([True,False],['US','Non-US'])\n",
        "df_original.head()"
      ],
      "execution_count": 20,
      "outputs": [
        {
          "output_type": "execute_result",
          "data": {
            "text/html": [
              "<div>\n",
              "<style scoped>\n",
              "    .dataframe tbody tr th:only-of-type {\n",
              "        vertical-align: middle;\n",
              "    }\n",
              "\n",
              "    .dataframe tbody tr th {\n",
              "        vertical-align: top;\n",
              "    }\n",
              "\n",
              "    .dataframe thead th {\n",
              "        text-align: right;\n",
              "    }\n",
              "</style>\n",
              "<table border=\"1\" class=\"dataframe\">\n",
              "  <thead>\n",
              "    <tr style=\"text-align: right;\">\n",
              "      <th></th>\n",
              "      <th>age</th>\n",
              "      <th>workclass</th>\n",
              "      <th>education</th>\n",
              "      <th>education-num</th>\n",
              "      <th>marital-status</th>\n",
              "      <th>occupation</th>\n",
              "      <th>race</th>\n",
              "      <th>sex</th>\n",
              "      <th>hours-per-week</th>\n",
              "      <th>native-country</th>\n",
              "      <th>Income</th>\n",
              "    </tr>\n",
              "  </thead>\n",
              "  <tbody>\n",
              "    <tr>\n",
              "      <th>0</th>\n",
              "      <td>39</td>\n",
              "      <td>State-gov</td>\n",
              "      <td>Bachelors</td>\n",
              "      <td>13</td>\n",
              "      <td>Single</td>\n",
              "      <td>Adm-clerical</td>\n",
              "      <td>White</td>\n",
              "      <td>Male</td>\n",
              "      <td>40</td>\n",
              "      <td>US</td>\n",
              "      <td>&lt;=50K</td>\n",
              "    </tr>\n",
              "    <tr>\n",
              "      <th>1</th>\n",
              "      <td>50</td>\n",
              "      <td>Self-emp-not-inc</td>\n",
              "      <td>Bachelors</td>\n",
              "      <td>13</td>\n",
              "      <td>Single</td>\n",
              "      <td>Exec-managerial</td>\n",
              "      <td>White</td>\n",
              "      <td>Male</td>\n",
              "      <td>13</td>\n",
              "      <td>US</td>\n",
              "      <td>&lt;=50K</td>\n",
              "    </tr>\n",
              "    <tr>\n",
              "      <th>2</th>\n",
              "      <td>38</td>\n",
              "      <td>Private</td>\n",
              "      <td>HS-grad</td>\n",
              "      <td>9</td>\n",
              "      <td>Divorced</td>\n",
              "      <td>Handlers-cleaners</td>\n",
              "      <td>White</td>\n",
              "      <td>Male</td>\n",
              "      <td>40</td>\n",
              "      <td>US</td>\n",
              "      <td>&lt;=50K</td>\n",
              "    </tr>\n",
              "    <tr>\n",
              "      <th>3</th>\n",
              "      <td>53</td>\n",
              "      <td>Private</td>\n",
              "      <td>High school</td>\n",
              "      <td>7</td>\n",
              "      <td>Single</td>\n",
              "      <td>Handlers-cleaners</td>\n",
              "      <td>Black</td>\n",
              "      <td>Male</td>\n",
              "      <td>40</td>\n",
              "      <td>US</td>\n",
              "      <td>&lt;=50K</td>\n",
              "    </tr>\n",
              "    <tr>\n",
              "      <th>4</th>\n",
              "      <td>28</td>\n",
              "      <td>Private</td>\n",
              "      <td>Bachelors</td>\n",
              "      <td>13</td>\n",
              "      <td>Single</td>\n",
              "      <td>Prof-specialty</td>\n",
              "      <td>Black</td>\n",
              "      <td>Female</td>\n",
              "      <td>40</td>\n",
              "      <td>Non-US</td>\n",
              "      <td>&lt;=50K</td>\n",
              "    </tr>\n",
              "  </tbody>\n",
              "</table>\n",
              "</div>"
            ],
            "text/plain": [
              "   age         workclass    education  education-num marital-status  \\\n",
              "0   39         State-gov    Bachelors             13         Single   \n",
              "1   50  Self-emp-not-inc    Bachelors             13         Single   \n",
              "2   38           Private      HS-grad              9       Divorced   \n",
              "3   53           Private  High school              7         Single   \n",
              "4   28           Private    Bachelors             13         Single   \n",
              "\n",
              "          occupation   race     sex  hours-per-week native-country Income  \n",
              "0       Adm-clerical  White    Male              40             US  <=50K  \n",
              "1    Exec-managerial  White    Male              13             US  <=50K  \n",
              "2  Handlers-cleaners  White    Male              40             US  <=50K  \n",
              "3  Handlers-cleaners  Black    Male              40             US  <=50K  \n",
              "4     Prof-specialty  Black  Female              40         Non-US  <=50K  "
            ]
          },
          "metadata": {
            "tags": []
          },
          "execution_count": 20
        }
      ]
    },
    {
      "cell_type": "markdown",
      "metadata": {
        "id": "ukZOtXm5rcqO"
      },
      "source": [
        "#### Education Num"
      ]
    },
    {
      "cell_type": "code",
      "metadata": {
        "colab": {
          "base_uri": "https://localhost:8080/"
        },
        "id": "k7EncYEnrgeU",
        "outputId": "927e8fa4-085f-43fe-b1cd-58493fc9abf6"
      },
      "source": [
        "df_original['education-num'] = df_original['education-num'].replace([1,2,3,4,5,6,7,8,9,10,11,12,13,14,15,16],[1,1,1,1,1,2,2,2,2,2,3,3,3,3,3,3])\n",
        "counts('education-num')"
      ],
      "execution_count": 21,
      "outputs": [
        {
          "output_type": "execute_result",
          "data": {
            "text/plain": [
              "2    20333\n",
              "3    10516\n",
              "1     1712\n",
              "Name: education-num, dtype: int64"
            ]
          },
          "metadata": {
            "tags": []
          },
          "execution_count": 21
        }
      ]
    },
    {
      "cell_type": "markdown",
      "metadata": {
        "id": "svIRbfDwuHm2"
      },
      "source": [
        "#### Workclass"
      ]
    },
    {
      "cell_type": "code",
      "metadata": {
        "colab": {
          "base_uri": "https://localhost:8080/",
          "height": 0
        },
        "id": "XEe0sy9suN5r",
        "outputId": "b1caa361-e9af-4723-d173-67d108d1f061"
      },
      "source": [
        "group8 = df_original.groupby((['workclass','education']))['age'].count()\n",
        "group8 = group8.to_frame()\n",
        "group8 = pd.pivot_table(group8,index='workclass',columns='education')\n",
        "group8.replace(np.nan,0,inplace=True)\n",
        "\n",
        "sns.set(rc = {'figure.figsize':(15,8)})\n",
        "sns.heatmap(group8,cmap='coolwarm')"
      ],
      "execution_count": 22,
      "outputs": [
        {
          "output_type": "execute_result",
          "data": {
            "text/plain": [
              "<matplotlib.axes._subplots.AxesSubplot at 0x7f697c99e310>"
            ]
          },
          "metadata": {
            "tags": []
          },
          "execution_count": 22
        },
        {
          "output_type": "display_data",
          "data": {
            "image/png": "[encoded data removed]",
            "text/plain": [
              "<Figure size 1080x576 with 2 Axes>"
            ]
          },
          "metadata": {
            "tags": []
          }
        }
      ]
    },
    {
      "cell_type": "code",
      "metadata": {
        "colab": {
          "base_uri": "https://localhost:8080/"
        },
        "id": "p2VZOEKmscDJ",
        "outputId": "c4a90927-eb04-45bf-9fac-9bb1ac445065"
      },
      "source": [
        "df_original[['workclass']]=df_original[['workclass']]=='Private'\n",
        "counts('workclass')"
      ],
      "execution_count": 23,
      "outputs": [
        {
          "output_type": "execute_result",
          "data": {
            "text/plain": [
              "True     24532\n",
              "False     8029\n",
              "Name: workclass, dtype: int64"
            ]
          },
          "metadata": {
            "tags": []
          },
          "execution_count": 23
        }
      ]
    },
    {
      "cell_type": "code",
      "metadata": {
        "colab": {
          "base_uri": "https://localhost:8080/",
          "height": 0
        },
        "id": "C5YlXGkwsntB",
        "outputId": "5fef4ec0-7ae6-4923-ec27-440a7ae10772"
      },
      "source": [
        "df_original['workclass'] = df_original['workclass'].replace([True,False],['Private','Non-Private'])\n",
        "df_original.head()"
      ],
      "execution_count": 24,
      "outputs": [
        {
          "output_type": "execute_result",
          "data": {
            "text/html": [
              "<div>\n",
              "<style scoped>\n",
              "    .dataframe tbody tr th:only-of-type {\n",
              "        vertical-align: middle;\n",
              "    }\n",
              "\n",
              "    .dataframe tbody tr th {\n",
              "        vertical-align: top;\n",
              "    }\n",
              "\n",
              "    .dataframe thead th {\n",
              "        text-align: right;\n",
              "    }\n",
              "</style>\n",
              "<table border=\"1\" class=\"dataframe\">\n",
              "  <thead>\n",
              "    <tr style=\"text-align: right;\">\n",
              "      <th></th>\n",
              "      <th>age</th>\n",
              "      <th>workclass</th>\n",
              "      <th>education</th>\n",
              "      <th>education-num</th>\n",
              "      <th>marital-status</th>\n",
              "      <th>occupation</th>\n",
              "      <th>race</th>\n",
              "      <th>sex</th>\n",
              "      <th>hours-per-week</th>\n",
              "      <th>native-country</th>\n",
              "      <th>Income</th>\n",
              "    </tr>\n",
              "  </thead>\n",
              "  <tbody>\n",
              "    <tr>\n",
              "      <th>0</th>\n",
              "      <td>39</td>\n",
              "      <td>Non-Private</td>\n",
              "      <td>Bachelors</td>\n",
              "      <td>3</td>\n",
              "      <td>Single</td>\n",
              "      <td>Adm-clerical</td>\n",
              "      <td>White</td>\n",
              "      <td>Male</td>\n",
              "      <td>40</td>\n",
              "      <td>US</td>\n",
              "      <td>&lt;=50K</td>\n",
              "    </tr>\n",
              "    <tr>\n",
              "      <th>1</th>\n",
              "      <td>50</td>\n",
              "      <td>Non-Private</td>\n",
              "      <td>Bachelors</td>\n",
              "      <td>3</td>\n",
              "      <td>Single</td>\n",
              "      <td>Exec-managerial</td>\n",
              "      <td>White</td>\n",
              "      <td>Male</td>\n",
              "      <td>13</td>\n",
              "      <td>US</td>\n",
              "      <td>&lt;=50K</td>\n",
              "    </tr>\n",
              "    <tr>\n",
              "      <th>2</th>\n",
              "      <td>38</td>\n",
              "      <td>Private</td>\n",
              "      <td>HS-grad</td>\n",
              "      <td>2</td>\n",
              "      <td>Divorced</td>\n",
              "      <td>Handlers-cleaners</td>\n",
              "      <td>White</td>\n",
              "      <td>Male</td>\n",
              "      <td>40</td>\n",
              "      <td>US</td>\n",
              "      <td>&lt;=50K</td>\n",
              "    </tr>\n",
              "    <tr>\n",
              "      <th>3</th>\n",
              "      <td>53</td>\n",
              "      <td>Private</td>\n",
              "      <td>High school</td>\n",
              "      <td>2</td>\n",
              "      <td>Single</td>\n",
              "      <td>Handlers-cleaners</td>\n",
              "      <td>Black</td>\n",
              "      <td>Male</td>\n",
              "      <td>40</td>\n",
              "      <td>US</td>\n",
              "      <td>&lt;=50K</td>\n",
              "    </tr>\n",
              "    <tr>\n",
              "      <th>4</th>\n",
              "      <td>28</td>\n",
              "      <td>Private</td>\n",
              "      <td>Bachelors</td>\n",
              "      <td>3</td>\n",
              "      <td>Single</td>\n",
              "      <td>Prof-specialty</td>\n",
              "      <td>Black</td>\n",
              "      <td>Female</td>\n",
              "      <td>40</td>\n",
              "      <td>Non-US</td>\n",
              "      <td>&lt;=50K</td>\n",
              "    </tr>\n",
              "  </tbody>\n",
              "</table>\n",
              "</div>"
            ],
            "text/plain": [
              "   age    workclass    education  education-num marital-status  \\\n",
              "0   39  Non-Private    Bachelors              3         Single   \n",
              "1   50  Non-Private    Bachelors              3         Single   \n",
              "2   38      Private      HS-grad              2       Divorced   \n",
              "3   53      Private  High school              2         Single   \n",
              "4   28      Private    Bachelors              3         Single   \n",
              "\n",
              "          occupation   race     sex  hours-per-week native-country Income  \n",
              "0       Adm-clerical  White    Male              40             US  <=50K  \n",
              "1    Exec-managerial  White    Male              13             US  <=50K  \n",
              "2  Handlers-cleaners  White    Male              40             US  <=50K  \n",
              "3  Handlers-cleaners  Black    Male              40             US  <=50K  \n",
              "4     Prof-specialty  Black  Female              40         Non-US  <=50K  "
            ]
          },
          "metadata": {
            "tags": []
          },
          "execution_count": 24
        }
      ]
    },
    {
      "cell_type": "markdown",
      "metadata": {
        "id": "kMsn9NLauxeB"
      },
      "source": [
        "#### Race"
      ]
    },
    {
      "cell_type": "code",
      "metadata": {
        "colab": {
          "base_uri": "https://localhost:8080/",
          "height": 0
        },
        "id": "WwldxXNvuY_0",
        "outputId": "94c1fdf0-563c-4d0c-9836-35ff7e912d8b"
      },
      "source": [
        "group9 = df_original.groupby((['occupation','race']))['age'].count()\n",
        "group9 = group9.to_frame()\n",
        "group9 = pd.pivot_table(group9,index='occupation',columns='race')\n",
        "group9.replace(np.nan,0,inplace=True)\n",
        "sns.set(rc = {'figure.figsize':(15,8)})\n",
        "sns.heatmap(group9,cmap='coolwarm')"
      ],
      "execution_count": 25,
      "outputs": [
        {
          "output_type": "execute_result",
          "data": {
            "text/plain": [
              "<matplotlib.axes._subplots.AxesSubplot at 0x7f697331d190>"
            ]
          },
          "metadata": {
            "tags": []
          },
          "execution_count": 25
        },
        {
          "output_type": "display_data",
          "data": {
            "image/png": "[encoded data removed]",
            "text/plain": [
              "<Figure size 1080x576 with 2 Axes>"
            ]
          },
          "metadata": {
            "tags": []
          }
        }
      ]
    },
    {
      "cell_type": "code",
      "metadata": {
        "colab": {
          "base_uri": "https://localhost:8080/"
        },
        "id": "9uFQ4YBGubV4",
        "outputId": "a62c37c6-a9df-4a21-b6b0-96d23f98659e"
      },
      "source": [
        "df_original[['race']]=df_original[['race']]=='White'\n",
        "counts('race')"
      ],
      "execution_count": 26,
      "outputs": [
        {
          "output_type": "execute_result",
          "data": {
            "text/plain": [
              "True     27816\n",
              "False     4745\n",
              "Name: race, dtype: int64"
            ]
          },
          "metadata": {
            "tags": []
          },
          "execution_count": 26
        }
      ]
    },
    {
      "cell_type": "code",
      "metadata": {
        "colab": {
          "base_uri": "https://localhost:8080/",
          "height": 0
        },
        "id": "D1WOXLmlulEi",
        "outputId": "29868948-1427-4dca-9a6e-c3711410b383"
      },
      "source": [
        "df_original['race'] = df_original['race'].replace([True,False],['White','Not-White'])\n",
        "df_original.head()"
      ],
      "execution_count": 27,
      "outputs": [
        {
          "output_type": "execute_result",
          "data": {
            "text/html": [
              "<div>\n",
              "<style scoped>\n",
              "    .dataframe tbody tr th:only-of-type {\n",
              "        vertical-align: middle;\n",
              "    }\n",
              "\n",
              "    .dataframe tbody tr th {\n",
              "        vertical-align: top;\n",
              "    }\n",
              "\n",
              "    .dataframe thead th {\n",
              "        text-align: right;\n",
              "    }\n",
              "</style>\n",
              "<table border=\"1\" class=\"dataframe\">\n",
              "  <thead>\n",
              "    <tr style=\"text-align: right;\">\n",
              "      <th></th>\n",
              "      <th>age</th>\n",
              "      <th>workclass</th>\n",
              "      <th>education</th>\n",
              "      <th>education-num</th>\n",
              "      <th>marital-status</th>\n",
              "      <th>occupation</th>\n",
              "      <th>race</th>\n",
              "      <th>sex</th>\n",
              "      <th>hours-per-week</th>\n",
              "      <th>native-country</th>\n",
              "      <th>Income</th>\n",
              "    </tr>\n",
              "  </thead>\n",
              "  <tbody>\n",
              "    <tr>\n",
              "      <th>0</th>\n",
              "      <td>39</td>\n",
              "      <td>Non-Private</td>\n",
              "      <td>Bachelors</td>\n",
              "      <td>3</td>\n",
              "      <td>Single</td>\n",
              "      <td>Adm-clerical</td>\n",
              "      <td>White</td>\n",
              "      <td>Male</td>\n",
              "      <td>40</td>\n",
              "      <td>US</td>\n",
              "      <td>&lt;=50K</td>\n",
              "    </tr>\n",
              "    <tr>\n",
              "      <th>1</th>\n",
              "      <td>50</td>\n",
              "      <td>Non-Private</td>\n",
              "      <td>Bachelors</td>\n",
              "      <td>3</td>\n",
              "      <td>Single</td>\n",
              "      <td>Exec-managerial</td>\n",
              "      <td>White</td>\n",
              "      <td>Male</td>\n",
              "      <td>13</td>\n",
              "      <td>US</td>\n",
              "      <td>&lt;=50K</td>\n",
              "    </tr>\n",
              "    <tr>\n",
              "      <th>2</th>\n",
              "      <td>38</td>\n",
              "      <td>Private</td>\n",
              "      <td>HS-grad</td>\n",
              "      <td>2</td>\n",
              "      <td>Divorced</td>\n",
              "      <td>Handlers-cleaners</td>\n",
              "      <td>White</td>\n",
              "      <td>Male</td>\n",
              "      <td>40</td>\n",
              "      <td>US</td>\n",
              "      <td>&lt;=50K</td>\n",
              "    </tr>\n",
              "    <tr>\n",
              "      <th>3</th>\n",
              "      <td>53</td>\n",
              "      <td>Private</td>\n",
              "      <td>High school</td>\n",
              "      <td>2</td>\n",
              "      <td>Single</td>\n",
              "      <td>Handlers-cleaners</td>\n",
              "      <td>Not-White</td>\n",
              "      <td>Male</td>\n",
              "      <td>40</td>\n",
              "      <td>US</td>\n",
              "      <td>&lt;=50K</td>\n",
              "    </tr>\n",
              "    <tr>\n",
              "      <th>4</th>\n",
              "      <td>28</td>\n",
              "      <td>Private</td>\n",
              "      <td>Bachelors</td>\n",
              "      <td>3</td>\n",
              "      <td>Single</td>\n",
              "      <td>Prof-specialty</td>\n",
              "      <td>Not-White</td>\n",
              "      <td>Female</td>\n",
              "      <td>40</td>\n",
              "      <td>Non-US</td>\n",
              "      <td>&lt;=50K</td>\n",
              "    </tr>\n",
              "  </tbody>\n",
              "</table>\n",
              "</div>"
            ],
            "text/plain": [
              "   age    workclass    education  education-num marital-status  \\\n",
              "0   39  Non-Private    Bachelors              3         Single   \n",
              "1   50  Non-Private    Bachelors              3         Single   \n",
              "2   38      Private      HS-grad              2       Divorced   \n",
              "3   53      Private  High school              2         Single   \n",
              "4   28      Private    Bachelors              3         Single   \n",
              "\n",
              "          occupation       race     sex  hours-per-week native-country Income  \n",
              "0       Adm-clerical      White    Male              40             US  <=50K  \n",
              "1    Exec-managerial      White    Male              13             US  <=50K  \n",
              "2  Handlers-cleaners      White    Male              40             US  <=50K  \n",
              "3  Handlers-cleaners  Not-White    Male              40             US  <=50K  \n",
              "4     Prof-specialty  Not-White  Female              40         Non-US  <=50K  "
            ]
          },
          "metadata": {
            "tags": []
          },
          "execution_count": 27
        }
      ]
    },
    {
      "cell_type": "markdown",
      "metadata": {
        "id": "leMXNxSFlTMP"
      },
      "source": [
        "### **Removing the outliers**\n"
      ]
    },
    {
      "cell_type": "code",
      "metadata": {
        "colab": {
          "base_uri": "https://localhost:8080/",
          "height": 0
        },
        "id": "_pqj_w28KJE-",
        "outputId": "6559e4fa-acff-4973-ece2-27e91fd4268e"
      },
      "source": [
        "plt.figure(figsize=(12,14))\n",
        "sns.boxplot(x=df_original['Income'],y =df_original[\"hours-per-week\"])"
      ],
      "execution_count": 28,
      "outputs": [
        {
          "output_type": "execute_result",
          "data": {
            "text/plain": [
              "<matplotlib.axes._subplots.AxesSubplot at 0x7f6973251fd0>"
            ]
          },
          "metadata": {
            "tags": []
          },
          "execution_count": 28
        },
        {
          "output_type": "display_data",
          "data": {
            "image/png": "[encoded data removed]",
            "text/plain": [
              "<Figure size 864x1008 with 1 Axes>"
            ]
          },
          "metadata": {
            "tags": []
          }
        }
      ]
    },
    {
      "cell_type": "code",
      "metadata": {
        "colab": {
          "base_uri": "https://localhost:8080/"
        },
        "id": "XBZpzHUkaf0f",
        "outputId": "0268a808-3774-44ba-9a19-69836b0bd638"
      },
      "source": [
        "# Removing outliers\n",
        "# IQR\n",
        "Q1 = np.percentile(df_original[[\"hours-per-week\"]], 25, \n",
        "                   interpolation = 'midpoint') \n",
        "  \n",
        "Q3 = np.percentile(df_original[[\"hours-per-week\"]], 75,\n",
        "                   interpolation = 'midpoint') \n",
        "IQR = Q3 - Q1 \n",
        "  \n",
        "print(\"Old Shape: \", df_original.shape) \n",
        "  \n",
        "# Upper bound\n",
        "upper = np.where(df_original[[\"hours-per-week\"]] >= (Q3+5*IQR))\n",
        "# Lower bound\n",
        "lower = np.where(df_original[[\"hours-per-week\"]] <= (Q1-5*IQR))\n",
        "\n",
        "print(upper[0].shape) \n",
        "print(lower[0].shape)\n",
        "\n",
        "# ''' Removing the Outliers '''\n",
        "# df_original.drop(upper[0], inplace = True)\n",
        "# # df_original.drop(lower[0], inplace = True)\n",
        "  \n",
        "# print(\"New Shape: \", df_original.shape) "
      ],
      "execution_count": 29,
      "outputs": [
        {
          "output_type": "stream",
          "text": [
            "Old Shape:  (32561, 11)\n",
            "(789,)\n",
            "(1381,)\n"
          ],
          "name": "stdout"
        }
      ]
    },
    {
      "cell_type": "markdown",
      "metadata": {
        "id": "EpAfAgYnHIxt"
      },
      "source": [
        "### Scaling the columns"
      ]
    },
    {
      "cell_type": "code",
      "metadata": {
        "id": "yE-xIfjHGtbf"
      },
      "source": [
        "scaler1 = StandardScaler()\n",
        "scaler1.fit(df_original[['hours-per-week']])\n",
        "df_original[[\"hours-per-week\"]]  = scaler1.transform(df_original[[\"hours-per-week\"]])\n"
      ],
      "execution_count": 30,
      "outputs": []
    },
    {
      "cell_type": "code",
      "metadata": {
        "id": "XcFZVcdcHQOa"
      },
      "source": [
        "scaler2 = StandardScaler()\n",
        "scaler2.fit(df_original[[\"age\"]] )\n",
        "df_original[[\"age\"]]  = scaler2.transform(df_original[[\"age\"]])"
      ],
      "execution_count": 31,
      "outputs": []
    },
    {
      "cell_type": "markdown",
      "metadata": {
        "id": "9lEPkukSHWcr"
      },
      "source": [
        "### Distributions"
      ]
    },
    {
      "cell_type": "code",
      "metadata": {
        "id": "xB9dBd5zohhm",
        "colab": {
          "base_uri": "https://localhost:8080/",
          "height": 0
        },
        "outputId": "100a8b7e-8d22-4ed8-a9c5-fc243c3c98dd"
      },
      "source": [
        "sns.distplot(df_original[[\"age\"]])"
      ],
      "execution_count": 32,
      "outputs": [
        {
          "output_type": "execute_result",
          "data": {
            "text/plain": [
              "<matplotlib.axes._subplots.AxesSubplot at 0x7f69731e97d0>"
            ]
          },
          "metadata": {
            "tags": []
          },
          "execution_count": 32
        },
        {
          "output_type": "display_data",
          "data": {
            "image/png": "[encoded data removed]",
            "text/plain": [
              "<Figure size 1080x576 with 1 Axes>"
            ]
          },
          "metadata": {
            "tags": []
          }
        }
      ]
    },
    {
      "cell_type": "code",
      "metadata": {
        "id": "ui4WtkqFohfX",
        "colab": {
          "base_uri": "https://localhost:8080/",
          "height": 0
        },
        "outputId": "f63d1f4e-40f4-4a76-a50c-2c30efa80d47"
      },
      "source": [
        "plt.figure(figsize=(12,14))\n",
        "sns.distplot(df_original['hours-per-week'])\n",
        "print(df_original[[\"hours-per-week\"]].skew())\n",
        "#sns.distplot(df_original[[\"capital-los\"]])\n",
        "print(\"No skewness\")"
      ],
      "execution_count": 33,
      "outputs": [
        {
          "output_type": "stream",
          "text": [
            "hours-per-week    0.227643\n",
            "dtype: float64\n",
            "No skewness\n"
          ],
          "name": "stdout"
        },
        {
          "output_type": "display_data",
          "data": {
            "image/png": "[encoded data removed]",
            "text/plain": [
              "<Figure size 864x1008 with 1 Axes>"
            ]
          },
          "metadata": {
            "tags": []
          }
        }
      ]
    },
    {
      "cell_type": "markdown",
      "metadata": {
        "id": "bLllFtQkK2Ti"
      },
      "source": [
        "# **Pivot tables**"
      ]
    },
    {
      "cell_type": "code",
      "metadata": {
        "colab": {
          "base_uri": "https://localhost:8080/",
          "height": 0
        },
        "id": "igtKWBrpK7rC",
        "outputId": "4c836350-f0c7-4e91-cce2-b6d98f5378a4"
      },
      "source": [
        "df_original.head()"
      ],
      "execution_count": 34,
      "outputs": [
        {
          "output_type": "execute_result",
          "data": {
            "text/html": [
              "<div>\n",
              "<style scoped>\n",
              "    .dataframe tbody tr th:only-of-type {\n",
              "        vertical-align: middle;\n",
              "    }\n",
              "\n",
              "    .dataframe tbody tr th {\n",
              "        vertical-align: top;\n",
              "    }\n",
              "\n",
              "    .dataframe thead th {\n",
              "        text-align: right;\n",
              "    }\n",
              "</style>\n",
              "<table border=\"1\" class=\"dataframe\">\n",
              "  <thead>\n",
              "    <tr style=\"text-align: right;\">\n",
              "      <th></th>\n",
              "      <th>age</th>\n",
              "      <th>workclass</th>\n",
              "      <th>education</th>\n",
              "      <th>education-num</th>\n",
              "      <th>marital-status</th>\n",
              "      <th>occupation</th>\n",
              "      <th>race</th>\n",
              "      <th>sex</th>\n",
              "      <th>hours-per-week</th>\n",
              "      <th>native-country</th>\n",
              "      <th>Income</th>\n",
              "    </tr>\n",
              "  </thead>\n",
              "  <tbody>\n",
              "    <tr>\n",
              "      <th>0</th>\n",
              "      <td>0.030671</td>\n",
              "      <td>Non-Private</td>\n",
              "      <td>Bachelors</td>\n",
              "      <td>3</td>\n",
              "      <td>Single</td>\n",
              "      <td>Adm-clerical</td>\n",
              "      <td>White</td>\n",
              "      <td>Male</td>\n",
              "      <td>-0.035429</td>\n",
              "      <td>US</td>\n",
              "      <td>&lt;=50K</td>\n",
              "    </tr>\n",
              "    <tr>\n",
              "      <th>1</th>\n",
              "      <td>0.837109</td>\n",
              "      <td>Non-Private</td>\n",
              "      <td>Bachelors</td>\n",
              "      <td>3</td>\n",
              "      <td>Single</td>\n",
              "      <td>Exec-managerial</td>\n",
              "      <td>White</td>\n",
              "      <td>Male</td>\n",
              "      <td>-2.222153</td>\n",
              "      <td>US</td>\n",
              "      <td>&lt;=50K</td>\n",
              "    </tr>\n",
              "    <tr>\n",
              "      <th>2</th>\n",
              "      <td>-0.042642</td>\n",
              "      <td>Private</td>\n",
              "      <td>HS-grad</td>\n",
              "      <td>2</td>\n",
              "      <td>Divorced</td>\n",
              "      <td>Handlers-cleaners</td>\n",
              "      <td>White</td>\n",
              "      <td>Male</td>\n",
              "      <td>-0.035429</td>\n",
              "      <td>US</td>\n",
              "      <td>&lt;=50K</td>\n",
              "    </tr>\n",
              "    <tr>\n",
              "      <th>3</th>\n",
              "      <td>1.057047</td>\n",
              "      <td>Private</td>\n",
              "      <td>High school</td>\n",
              "      <td>2</td>\n",
              "      <td>Single</td>\n",
              "      <td>Handlers-cleaners</td>\n",
              "      <td>Not-White</td>\n",
              "      <td>Male</td>\n",
              "      <td>-0.035429</td>\n",
              "      <td>US</td>\n",
              "      <td>&lt;=50K</td>\n",
              "    </tr>\n",
              "    <tr>\n",
              "      <th>4</th>\n",
              "      <td>-0.775768</td>\n",
              "      <td>Private</td>\n",
              "      <td>Bachelors</td>\n",
              "      <td>3</td>\n",
              "      <td>Single</td>\n",
              "      <td>Prof-specialty</td>\n",
              "      <td>Not-White</td>\n",
              "      <td>Female</td>\n",
              "      <td>-0.035429</td>\n",
              "      <td>Non-US</td>\n",
              "      <td>&lt;=50K</td>\n",
              "    </tr>\n",
              "  </tbody>\n",
              "</table>\n",
              "</div>"
            ],
            "text/plain": [
              "        age    workclass    education  education-num marital-status  \\\n",
              "0  0.030671  Non-Private    Bachelors              3         Single   \n",
              "1  0.837109  Non-Private    Bachelors              3         Single   \n",
              "2 -0.042642      Private      HS-grad              2       Divorced   \n",
              "3  1.057047      Private  High school              2         Single   \n",
              "4 -0.775768      Private    Bachelors              3         Single   \n",
              "\n",
              "          occupation       race     sex  hours-per-week native-country Income  \n",
              "0       Adm-clerical      White    Male       -0.035429             US  <=50K  \n",
              "1    Exec-managerial      White    Male       -2.222153             US  <=50K  \n",
              "2  Handlers-cleaners      White    Male       -0.035429             US  <=50K  \n",
              "3  Handlers-cleaners  Not-White    Male       -0.035429             US  <=50K  \n",
              "4     Prof-specialty  Not-White  Female       -0.035429         Non-US  <=50K  "
            ]
          },
          "metadata": {
            "tags": []
          },
          "execution_count": 34
        }
      ]
    },
    {
      "cell_type": "code",
      "metadata": {
        "colab": {
          "base_uri": "https://localhost:8080/",
          "height": 0
        },
        "id": "f_6PrDQbL2T1",
        "outputId": "a900fd14-5ff9-4a30-dfde-dfb66495519b"
      },
      "source": [
        "group1 = df_original.groupby((['Income','workclass']))['age'].count()\n",
        "group1 = group1.to_frame()\n",
        "pd.pivot_table(group1,index='Income',columns='workclass')\n"
      ],
      "execution_count": 35,
      "outputs": [
        {
          "output_type": "execute_result",
          "data": {
            "text/html": [
              "<div>\n",
              "<style scoped>\n",
              "    .dataframe tbody tr th:only-of-type {\n",
              "        vertical-align: middle;\n",
              "    }\n",
              "\n",
              "    .dataframe tbody tr th {\n",
              "        vertical-align: top;\n",
              "    }\n",
              "\n",
              "    .dataframe thead tr th {\n",
              "        text-align: left;\n",
              "    }\n",
              "\n",
              "    .dataframe thead tr:last-of-type th {\n",
              "        text-align: right;\n",
              "    }\n",
              "</style>\n",
              "<table border=\"1\" class=\"dataframe\">\n",
              "  <thead>\n",
              "    <tr>\n",
              "      <th></th>\n",
              "      <th colspan=\"2\" halign=\"left\">age</th>\n",
              "    </tr>\n",
              "    <tr>\n",
              "      <th>workclass</th>\n",
              "      <th>Non-Private</th>\n",
              "      <th>Private</th>\n",
              "    </tr>\n",
              "    <tr>\n",
              "      <th>Income</th>\n",
              "      <th></th>\n",
              "      <th></th>\n",
              "    </tr>\n",
              "  </thead>\n",
              "  <tbody>\n",
              "    <tr>\n",
              "      <th>&lt;=50K</th>\n",
              "      <td>5342</td>\n",
              "      <td>19378</td>\n",
              "    </tr>\n",
              "    <tr>\n",
              "      <th>&gt;50K</th>\n",
              "      <td>2687</td>\n",
              "      <td>5154</td>\n",
              "    </tr>\n",
              "  </tbody>\n",
              "</table>\n",
              "</div>"
            ],
            "text/plain": [
              "                  age        \n",
              "workclass Non-Private Private\n",
              "Income                       \n",
              "<=50K            5342   19378\n",
              ">50K             2687    5154"
            ]
          },
          "metadata": {
            "tags": []
          },
          "execution_count": 35
        }
      ]
    },
    {
      "cell_type": "code",
      "metadata": {
        "colab": {
          "base_uri": "https://localhost:8080/",
          "height": 0
        },
        "id": "FSFkeDptMCdk",
        "outputId": "929536b9-8988-416d-88db-244d5e6ebdbd"
      },
      "source": [
        "group2 = df_original.groupby((['Income','education']))['age'].count()\n",
        "group2 = group2.to_frame()\n",
        "pd.pivot_table(group2,index='Income',columns='education')\n"
      ],
      "execution_count": 36,
      "outputs": [
        {
          "output_type": "execute_result",
          "data": {
            "text/html": [
              "<div>\n",
              "<style scoped>\n",
              "    .dataframe tbody tr th:only-of-type {\n",
              "        vertical-align: middle;\n",
              "    }\n",
              "\n",
              "    .dataframe tbody tr th {\n",
              "        vertical-align: top;\n",
              "    }\n",
              "\n",
              "    .dataframe thead tr th {\n",
              "        text-align: left;\n",
              "    }\n",
              "\n",
              "    .dataframe thead tr:last-of-type th {\n",
              "        text-align: right;\n",
              "    }\n",
              "</style>\n",
              "<table border=\"1\" class=\"dataframe\">\n",
              "  <thead>\n",
              "    <tr>\n",
              "      <th></th>\n",
              "      <th colspan=\"9\" halign=\"left\">age</th>\n",
              "    </tr>\n",
              "    <tr>\n",
              "      <th>education</th>\n",
              "      <th>Assoc-acdm</th>\n",
              "      <th>Assoc-voc</th>\n",
              "      <th>Bachelors</th>\n",
              "      <th>HS-grad</th>\n",
              "      <th>High school</th>\n",
              "      <th>Junior school</th>\n",
              "      <th>Masters</th>\n",
              "      <th>PHD lvl</th>\n",
              "      <th>Some-college</th>\n",
              "    </tr>\n",
              "    <tr>\n",
              "      <th>Income</th>\n",
              "      <th></th>\n",
              "      <th></th>\n",
              "      <th></th>\n",
              "      <th></th>\n",
              "      <th></th>\n",
              "      <th></th>\n",
              "      <th></th>\n",
              "      <th></th>\n",
              "      <th></th>\n",
              "    </tr>\n",
              "  </thead>\n",
              "  <tbody>\n",
              "    <tr>\n",
              "      <th>&lt;=50K</th>\n",
              "      <td>802</td>\n",
              "      <td>1021</td>\n",
              "      <td>3134</td>\n",
              "      <td>8826</td>\n",
              "      <td>2873</td>\n",
              "      <td>1136</td>\n",
              "      <td>764</td>\n",
              "      <td>260</td>\n",
              "      <td>5904</td>\n",
              "    </tr>\n",
              "    <tr>\n",
              "      <th>&gt;50K</th>\n",
              "      <td>265</td>\n",
              "      <td>361</td>\n",
              "      <td>2221</td>\n",
              "      <td>1675</td>\n",
              "      <td>182</td>\n",
              "      <td>62</td>\n",
              "      <td>959</td>\n",
              "      <td>729</td>\n",
              "      <td>1387</td>\n",
              "    </tr>\n",
              "  </tbody>\n",
              "</table>\n",
              "</div>"
            ],
            "text/plain": [
              "                 age                                                        \\\n",
              "education Assoc-acdm Assoc-voc Bachelors HS-grad High school Junior school   \n",
              "Income                                                                       \n",
              "<=50K            802      1021      3134    8826        2873          1136   \n",
              ">50K             265       361      2221    1675         182            62   \n",
              "\n",
              "                                        \n",
              "education Masters PHD lvl Some-college  \n",
              "Income                                  \n",
              "<=50K         764     260         5904  \n",
              ">50K          959     729         1387  "
            ]
          },
          "metadata": {
            "tags": []
          },
          "execution_count": 36
        }
      ]
    },
    {
      "cell_type": "code",
      "metadata": {
        "colab": {
          "base_uri": "https://localhost:8080/",
          "height": 0
        },
        "id": "xigIgLYWMXu1",
        "outputId": "ce3065dc-7984-481b-9571-116ce2e369da"
      },
      "source": [
        "group4 = df_original.groupby((['Income','marital-status']))['age'].count()\n",
        "group4 = group4.to_frame()\n",
        "pd.pivot_table(group4,index='Income',columns='marital-status')"
      ],
      "execution_count": 37,
      "outputs": [
        {
          "output_type": "execute_result",
          "data": {
            "text/html": [
              "<div>\n",
              "<style scoped>\n",
              "    .dataframe tbody tr th:only-of-type {\n",
              "        vertical-align: middle;\n",
              "    }\n",
              "\n",
              "    .dataframe tbody tr th {\n",
              "        vertical-align: top;\n",
              "    }\n",
              "\n",
              "    .dataframe thead tr th {\n",
              "        text-align: left;\n",
              "    }\n",
              "\n",
              "    .dataframe thead tr:last-of-type th {\n",
              "        text-align: right;\n",
              "    }\n",
              "</style>\n",
              "<table border=\"1\" class=\"dataframe\">\n",
              "  <thead>\n",
              "    <tr>\n",
              "      <th></th>\n",
              "      <th colspan=\"4\" halign=\"left\">age</th>\n",
              "    </tr>\n",
              "    <tr>\n",
              "      <th>marital-status</th>\n",
              "      <th>Divorced</th>\n",
              "      <th>Married-AF-spouse</th>\n",
              "      <th>Single</th>\n",
              "      <th>Widowed</th>\n",
              "    </tr>\n",
              "    <tr>\n",
              "      <th>Income</th>\n",
              "      <th></th>\n",
              "      <th></th>\n",
              "      <th></th>\n",
              "      <th></th>\n",
              "    </tr>\n",
              "  </thead>\n",
              "  <tbody>\n",
              "    <tr>\n",
              "      <th>&lt;=50K</th>\n",
              "      <td>3980</td>\n",
              "      <td>13</td>\n",
              "      <td>19819</td>\n",
              "      <td>908</td>\n",
              "    </tr>\n",
              "    <tr>\n",
              "      <th>&gt;50K</th>\n",
              "      <td>463</td>\n",
              "      <td>10</td>\n",
              "      <td>7283</td>\n",
              "      <td>85</td>\n",
              "    </tr>\n",
              "  </tbody>\n",
              "</table>\n",
              "</div>"
            ],
            "text/plain": [
              "                    age                                 \n",
              "marital-status Divorced Married-AF-spouse Single Widowed\n",
              "Income                                                  \n",
              "<=50K              3980                13  19819     908\n",
              ">50K                463                10   7283      85"
            ]
          },
          "metadata": {
            "tags": []
          },
          "execution_count": 37
        }
      ]
    },
    {
      "cell_type": "code",
      "metadata": {
        "colab": {
          "base_uri": "https://localhost:8080/",
          "height": 0
        },
        "id": "RtRfhEeGMlnS",
        "outputId": "8809c624-9e7d-4280-dc3d-ca4900d7b38e"
      },
      "source": [
        "group5 = df_original.groupby((['Income','occupation']))['age'].count()\n",
        "group5 = group5.to_frame()\n",
        "pd.pivot_table(group5,index='Income',columns='occupation')"
      ],
      "execution_count": 38,
      "outputs": [
        {
          "output_type": "execute_result",
          "data": {
            "text/html": [
              "<div>\n",
              "<style scoped>\n",
              "    .dataframe tbody tr th:only-of-type {\n",
              "        vertical-align: middle;\n",
              "    }\n",
              "\n",
              "    .dataframe tbody tr th {\n",
              "        vertical-align: top;\n",
              "    }\n",
              "\n",
              "    .dataframe thead tr th {\n",
              "        text-align: left;\n",
              "    }\n",
              "\n",
              "    .dataframe thead tr:last-of-type th {\n",
              "        text-align: right;\n",
              "    }\n",
              "</style>\n",
              "<table border=\"1\" class=\"dataframe\">\n",
              "  <thead>\n",
              "    <tr>\n",
              "      <th></th>\n",
              "      <th colspan=\"14\" halign=\"left\">age</th>\n",
              "    </tr>\n",
              "    <tr>\n",
              "      <th>occupation</th>\n",
              "      <th>Adm-clerical</th>\n",
              "      <th>Armed-Forces</th>\n",
              "      <th>Craft-repair</th>\n",
              "      <th>Exec-managerial</th>\n",
              "      <th>Farming-fishing</th>\n",
              "      <th>Handlers-cleaners</th>\n",
              "      <th>Machine-op-inspct</th>\n",
              "      <th>Other-service</th>\n",
              "      <th>Priv-house-serv</th>\n",
              "      <th>Prof-specialty</th>\n",
              "      <th>Protective-serv</th>\n",
              "      <th>Sales</th>\n",
              "      <th>Tech-support</th>\n",
              "      <th>Transport-moving</th>\n",
              "    </tr>\n",
              "    <tr>\n",
              "      <th>Income</th>\n",
              "      <th></th>\n",
              "      <th></th>\n",
              "      <th></th>\n",
              "      <th></th>\n",
              "      <th></th>\n",
              "      <th></th>\n",
              "      <th></th>\n",
              "      <th></th>\n",
              "      <th></th>\n",
              "      <th></th>\n",
              "      <th></th>\n",
              "      <th></th>\n",
              "      <th></th>\n",
              "      <th></th>\n",
              "    </tr>\n",
              "  </thead>\n",
              "  <tbody>\n",
              "    <tr>\n",
              "      <th>&lt;=50K</th>\n",
              "      <td>3263</td>\n",
              "      <td>8</td>\n",
              "      <td>3170</td>\n",
              "      <td>2098</td>\n",
              "      <td>879</td>\n",
              "      <td>1284</td>\n",
              "      <td>1752</td>\n",
              "      <td>3158</td>\n",
              "      <td>148</td>\n",
              "      <td>3933</td>\n",
              "      <td>438</td>\n",
              "      <td>2667</td>\n",
              "      <td>645</td>\n",
              "      <td>1277</td>\n",
              "    </tr>\n",
              "    <tr>\n",
              "      <th>&gt;50K</th>\n",
              "      <td>507</td>\n",
              "      <td>1</td>\n",
              "      <td>929</td>\n",
              "      <td>1968</td>\n",
              "      <td>115</td>\n",
              "      <td>86</td>\n",
              "      <td>250</td>\n",
              "      <td>137</td>\n",
              "      <td>1</td>\n",
              "      <td>2050</td>\n",
              "      <td>211</td>\n",
              "      <td>983</td>\n",
              "      <td>283</td>\n",
              "      <td>320</td>\n",
              "    </tr>\n",
              "  </tbody>\n",
              "</table>\n",
              "</div>"
            ],
            "text/plain": [
              "                    age                                            \\\n",
              "occupation Adm-clerical Armed-Forces Craft-repair Exec-managerial   \n",
              "Income                                                              \n",
              "<=50K              3263            8         3170            2098   \n",
              ">50K                507            1          929            1968   \n",
              "\n",
              "                                                                              \\\n",
              "occupation Farming-fishing Handlers-cleaners Machine-op-inspct Other-service   \n",
              "Income                                                                         \n",
              "<=50K                  879              1284              1752          3158   \n",
              ">50K                   115                86               250           137   \n",
              "\n",
              "                                                                              \\\n",
              "occupation Priv-house-serv Prof-specialty Protective-serv Sales Tech-support   \n",
              "Income                                                                         \n",
              "<=50K                  148           3933             438  2667          645   \n",
              ">50K                     1           2050             211   983          283   \n",
              "\n",
              "                             \n",
              "occupation Transport-moving  \n",
              "Income                       \n",
              "<=50K                  1277  \n",
              ">50K                    320  "
            ]
          },
          "metadata": {
            "tags": []
          },
          "execution_count": 38
        }
      ]
    },
    {
      "cell_type": "code",
      "metadata": {
        "colab": {
          "base_uri": "https://localhost:8080/",
          "height": 0
        },
        "id": "lRv7o3emM5W9",
        "outputId": "d337e9e6-f448-4dbd-cba2-a5449738a0b2"
      },
      "source": [
        "group6 = df_original.groupby((['Income','sex']))['age'].count()\n",
        "group6 = group6.to_frame()\n",
        "pd.pivot_table(group6,index='Income',columns='sex')"
      ],
      "execution_count": 39,
      "outputs": [
        {
          "output_type": "execute_result",
          "data": {
            "text/html": [
              "<div>\n",
              "<style scoped>\n",
              "    .dataframe tbody tr th:only-of-type {\n",
              "        vertical-align: middle;\n",
              "    }\n",
              "\n",
              "    .dataframe tbody tr th {\n",
              "        vertical-align: top;\n",
              "    }\n",
              "\n",
              "    .dataframe thead tr th {\n",
              "        text-align: left;\n",
              "    }\n",
              "\n",
              "    .dataframe thead tr:last-of-type th {\n",
              "        text-align: right;\n",
              "    }\n",
              "</style>\n",
              "<table border=\"1\" class=\"dataframe\">\n",
              "  <thead>\n",
              "    <tr>\n",
              "      <th></th>\n",
              "      <th colspan=\"2\" halign=\"left\">age</th>\n",
              "    </tr>\n",
              "    <tr>\n",
              "      <th>sex</th>\n",
              "      <th>Female</th>\n",
              "      <th>Male</th>\n",
              "    </tr>\n",
              "    <tr>\n",
              "      <th>Income</th>\n",
              "      <th></th>\n",
              "      <th></th>\n",
              "    </tr>\n",
              "  </thead>\n",
              "  <tbody>\n",
              "    <tr>\n",
              "      <th>&lt;=50K</th>\n",
              "      <td>9592</td>\n",
              "      <td>15128</td>\n",
              "    </tr>\n",
              "    <tr>\n",
              "      <th>&gt;50K</th>\n",
              "      <td>1179</td>\n",
              "      <td>6662</td>\n",
              "    </tr>\n",
              "  </tbody>\n",
              "</table>\n",
              "</div>"
            ],
            "text/plain": [
              "          age       \n",
              "sex    Female   Male\n",
              "Income              \n",
              "<=50K    9592  15128\n",
              ">50K     1179   6662"
            ]
          },
          "metadata": {
            "tags": []
          },
          "execution_count": 39
        }
      ]
    },
    {
      "cell_type": "code",
      "metadata": {
        "id": "GREh3fyvNCh8"
      },
      "source": [
        "group7 = df_original.groupby((['occupation','education']))['age'].count()\n",
        "group7 = group7.to_frame()\n",
        "group7 = pd.pivot_table(group7,index='occupation',columns='education')\n",
        "group7.replace(np.nan,0,inplace=True)"
      ],
      "execution_count": 40,
      "outputs": []
    },
    {
      "cell_type": "code",
      "metadata": {
        "id": "LJ36WWqUWaLk"
      },
      "source": [
        "df = df_original[['occupation','education']].groupby(['occupation','education']).size().unstack(level=0)\n",
        "df.replace(np.nan,0,inplace=True)"
      ],
      "execution_count": 41,
      "outputs": []
    },
    {
      "cell_type": "code",
      "metadata": {
        "colab": {
          "base_uri": "https://localhost:8080/",
          "height": 0
        },
        "id": "wyvLC8-zU9ii",
        "outputId": "52b1d975-4f8d-4f00-ee20-fe4500127f99"
      },
      "source": [
        "#df = df_original[[\"Profession\",\"Segmentation\"]].groupby([\"Profession\", \"Segmentation\"]).size().unstack(level=0)\n",
        "# print(train_data_viz[\"Profession\"].unique())\n",
        "# for profession in train_data_viz[\"Profession\"].unique():\n",
        "#     df[profession] = df[profession]/sum(df[profession])\n",
        "sns.set(rc = {'figure.figsize':(15,8)})\n",
        "sns.heatmap(group7,cmap='coolwarm')"
      ],
      "execution_count": 42,
      "outputs": [
        {
          "output_type": "execute_result",
          "data": {
            "text/plain": [
              "<matplotlib.axes._subplots.AxesSubplot at 0x7f6970fabdd0>"
            ]
          },
          "metadata": {
            "tags": []
          },
          "execution_count": 42
        },
        {
          "output_type": "display_data",
          "data": {
            "image/png": "[encoded data removed]",
            "text/plain": [
              "<Figure size 1080x576 with 2 Axes>"
            ]
          },
          "metadata": {
            "tags": []
          }
        }
      ]
    },
    {
      "cell_type": "markdown",
      "metadata": {
        "id": "Q8il7tqEvGpq"
      },
      "source": [
        "# **Features Extraction & Encoding**"
      ]
    },
    {
      "cell_type": "code",
      "metadata": {
        "colab": {
          "base_uri": "https://localhost:8080/",
          "height": 203
        },
        "id": "ph_OONphr2Ug",
        "outputId": "d3e06e1d-1c49-4c25-b2b6-c9404a820bf6"
      },
      "source": [
        "df_original.head()"
      ],
      "execution_count": 43,
      "outputs": [
        {
          "output_type": "execute_result",
          "data": {
            "text/html": [
              "<div>\n",
              "<style scoped>\n",
              "    .dataframe tbody tr th:only-of-type {\n",
              "        vertical-align: middle;\n",
              "    }\n",
              "\n",
              "    .dataframe tbody tr th {\n",
              "        vertical-align: top;\n",
              "    }\n",
              "\n",
              "    .dataframe thead th {\n",
              "        text-align: right;\n",
              "    }\n",
              "</style>\n",
              "<table border=\"1\" class=\"dataframe\">\n",
              "  <thead>\n",
              "    <tr style=\"text-align: right;\">\n",
              "      <th></th>\n",
              "      <th>age</th>\n",
              "      <th>workclass</th>\n",
              "      <th>education</th>\n",
              "      <th>education-num</th>\n",
              "      <th>marital-status</th>\n",
              "      <th>occupation</th>\n",
              "      <th>race</th>\n",
              "      <th>sex</th>\n",
              "      <th>hours-per-week</th>\n",
              "      <th>native-country</th>\n",
              "      <th>Income</th>\n",
              "    </tr>\n",
              "  </thead>\n",
              "  <tbody>\n",
              "    <tr>\n",
              "      <th>0</th>\n",
              "      <td>0.030671</td>\n",
              "      <td>Non-Private</td>\n",
              "      <td>Bachelors</td>\n",
              "      <td>3</td>\n",
              "      <td>Single</td>\n",
              "      <td>Adm-clerical</td>\n",
              "      <td>White</td>\n",
              "      <td>Male</td>\n",
              "      <td>-0.035429</td>\n",
              "      <td>US</td>\n",
              "      <td>&lt;=50K</td>\n",
              "    </tr>\n",
              "    <tr>\n",
              "      <th>1</th>\n",
              "      <td>0.837109</td>\n",
              "      <td>Non-Private</td>\n",
              "      <td>Bachelors</td>\n",
              "      <td>3</td>\n",
              "      <td>Single</td>\n",
              "      <td>Exec-managerial</td>\n",
              "      <td>White</td>\n",
              "      <td>Male</td>\n",
              "      <td>-2.222153</td>\n",
              "      <td>US</td>\n",
              "      <td>&lt;=50K</td>\n",
              "    </tr>\n",
              "    <tr>\n",
              "      <th>2</th>\n",
              "      <td>-0.042642</td>\n",
              "      <td>Private</td>\n",
              "      <td>HS-grad</td>\n",
              "      <td>2</td>\n",
              "      <td>Divorced</td>\n",
              "      <td>Handlers-cleaners</td>\n",
              "      <td>White</td>\n",
              "      <td>Male</td>\n",
              "      <td>-0.035429</td>\n",
              "      <td>US</td>\n",
              "      <td>&lt;=50K</td>\n",
              "    </tr>\n",
              "    <tr>\n",
              "      <th>3</th>\n",
              "      <td>1.057047</td>\n",
              "      <td>Private</td>\n",
              "      <td>High school</td>\n",
              "      <td>2</td>\n",
              "      <td>Single</td>\n",
              "      <td>Handlers-cleaners</td>\n",
              "      <td>Not-White</td>\n",
              "      <td>Male</td>\n",
              "      <td>-0.035429</td>\n",
              "      <td>US</td>\n",
              "      <td>&lt;=50K</td>\n",
              "    </tr>\n",
              "    <tr>\n",
              "      <th>4</th>\n",
              "      <td>-0.775768</td>\n",
              "      <td>Private</td>\n",
              "      <td>Bachelors</td>\n",
              "      <td>3</td>\n",
              "      <td>Single</td>\n",
              "      <td>Prof-specialty</td>\n",
              "      <td>Not-White</td>\n",
              "      <td>Female</td>\n",
              "      <td>-0.035429</td>\n",
              "      <td>Non-US</td>\n",
              "      <td>&lt;=50K</td>\n",
              "    </tr>\n",
              "  </tbody>\n",
              "</table>\n",
              "</div>"
            ],
            "text/plain": [
              "        age    workclass    education  education-num marital-status  \\\n",
              "0  0.030671  Non-Private    Bachelors              3         Single   \n",
              "1  0.837109  Non-Private    Bachelors              3         Single   \n",
              "2 -0.042642      Private      HS-grad              2       Divorced   \n",
              "3  1.057047      Private  High school              2         Single   \n",
              "4 -0.775768      Private    Bachelors              3         Single   \n",
              "\n",
              "          occupation       race     sex  hours-per-week native-country Income  \n",
              "0       Adm-clerical      White    Male       -0.035429             US  <=50K  \n",
              "1    Exec-managerial      White    Male       -2.222153             US  <=50K  \n",
              "2  Handlers-cleaners      White    Male       -0.035429             US  <=50K  \n",
              "3  Handlers-cleaners  Not-White    Male       -0.035429             US  <=50K  \n",
              "4     Prof-specialty  Not-White  Female       -0.035429         Non-US  <=50K  "
            ]
          },
          "metadata": {
            "tags": []
          },
          "execution_count": 43
        }
      ]
    },
    {
      "cell_type": "code",
      "metadata": {
        "id": "vJXaBjiTsSME"
      },
      "source": [
        "features = df_original"
      ],
      "execution_count": 44,
      "outputs": []
    },
    {
      "cell_type": "code",
      "metadata": {
        "colab": {
          "base_uri": "https://localhost:8080/"
        },
        "id": "FJcbJW_a6iOz",
        "outputId": "8cd9f34e-eebc-4d12-f0d4-6f979d84b2b2"
      },
      "source": [
        "counts('Income')"
      ],
      "execution_count": 45,
      "outputs": [
        {
          "output_type": "execute_result",
          "data": {
            "text/plain": [
              "<=50K    24720\n",
              ">50K      7841\n",
              "Name: Income, dtype: int64"
            ]
          },
          "metadata": {
            "tags": []
          },
          "execution_count": 45
        }
      ]
    },
    {
      "cell_type": "code",
      "metadata": {
        "colab": {
          "base_uri": "https://localhost:8080/",
          "height": 203
        },
        "id": "KadhVhPduBKl",
        "outputId": "e27f1284-a8ef-4d1f-a083-9e38a28f80eb"
      },
      "source": [
        "features['race']  = features['race'].replace(['White','Not-White'],[1,0])\n",
        "features['sex']   = features['sex'].replace(['Male','Female'],[1,0])\n",
        "features['workclass'] = features['workclass'].replace(['Private','Non-Private'],[1,0])\n",
        "features['native-country'] = features['native-country'].replace(['US','Non-US'],[1,0])\n",
        "features['Income'] = features['Income'].replace(['<=50K','>50K'],[0,1])\n",
        "features.head()"
      ],
      "execution_count": 46,
      "outputs": [
        {
          "output_type": "execute_result",
          "data": {
            "text/html": [
              "<div>\n",
              "<style scoped>\n",
              "    .dataframe tbody tr th:only-of-type {\n",
              "        vertical-align: middle;\n",
              "    }\n",
              "\n",
              "    .dataframe tbody tr th {\n",
              "        vertical-align: top;\n",
              "    }\n",
              "\n",
              "    .dataframe thead th {\n",
              "        text-align: right;\n",
              "    }\n",
              "</style>\n",
              "<table border=\"1\" class=\"dataframe\">\n",
              "  <thead>\n",
              "    <tr style=\"text-align: right;\">\n",
              "      <th></th>\n",
              "      <th>age</th>\n",
              "      <th>workclass</th>\n",
              "      <th>education</th>\n",
              "      <th>education-num</th>\n",
              "      <th>marital-status</th>\n",
              "      <th>occupation</th>\n",
              "      <th>race</th>\n",
              "      <th>sex</th>\n",
              "      <th>hours-per-week</th>\n",
              "      <th>native-country</th>\n",
              "      <th>Income</th>\n",
              "    </tr>\n",
              "  </thead>\n",
              "  <tbody>\n",
              "    <tr>\n",
              "      <th>0</th>\n",
              "      <td>0.030671</td>\n",
              "      <td>0</td>\n",
              "      <td>Bachelors</td>\n",
              "      <td>3</td>\n",
              "      <td>Single</td>\n",
              "      <td>Adm-clerical</td>\n",
              "      <td>1</td>\n",
              "      <td>1</td>\n",
              "      <td>-0.035429</td>\n",
              "      <td>1</td>\n",
              "      <td>0</td>\n",
              "    </tr>\n",
              "    <tr>\n",
              "      <th>1</th>\n",
              "      <td>0.837109</td>\n",
              "      <td>0</td>\n",
              "      <td>Bachelors</td>\n",
              "      <td>3</td>\n",
              "      <td>Single</td>\n",
              "      <td>Exec-managerial</td>\n",
              "      <td>1</td>\n",
              "      <td>1</td>\n",
              "      <td>-2.222153</td>\n",
              "      <td>1</td>\n",
              "      <td>0</td>\n",
              "    </tr>\n",
              "    <tr>\n",
              "      <th>2</th>\n",
              "      <td>-0.042642</td>\n",
              "      <td>1</td>\n",
              "      <td>HS-grad</td>\n",
              "      <td>2</td>\n",
              "      <td>Divorced</td>\n",
              "      <td>Handlers-cleaners</td>\n",
              "      <td>1</td>\n",
              "      <td>1</td>\n",
              "      <td>-0.035429</td>\n",
              "      <td>1</td>\n",
              "      <td>0</td>\n",
              "    </tr>\n",
              "    <tr>\n",
              "      <th>3</th>\n",
              "      <td>1.057047</td>\n",
              "      <td>1</td>\n",
              "      <td>High school</td>\n",
              "      <td>2</td>\n",
              "      <td>Single</td>\n",
              "      <td>Handlers-cleaners</td>\n",
              "      <td>0</td>\n",
              "      <td>1</td>\n",
              "      <td>-0.035429</td>\n",
              "      <td>1</td>\n",
              "      <td>0</td>\n",
              "    </tr>\n",
              "    <tr>\n",
              "      <th>4</th>\n",
              "      <td>-0.775768</td>\n",
              "      <td>1</td>\n",
              "      <td>Bachelors</td>\n",
              "      <td>3</td>\n",
              "      <td>Single</td>\n",
              "      <td>Prof-specialty</td>\n",
              "      <td>0</td>\n",
              "      <td>0</td>\n",
              "      <td>-0.035429</td>\n",
              "      <td>0</td>\n",
              "      <td>0</td>\n",
              "    </tr>\n",
              "  </tbody>\n",
              "</table>\n",
              "</div>"
            ],
            "text/plain": [
              "        age  workclass    education  education-num marital-status  \\\n",
              "0  0.030671          0    Bachelors              3         Single   \n",
              "1  0.837109          0    Bachelors              3         Single   \n",
              "2 -0.042642          1      HS-grad              2       Divorced   \n",
              "3  1.057047          1  High school              2         Single   \n",
              "4 -0.775768          1    Bachelors              3         Single   \n",
              "\n",
              "          occupation  race  sex  hours-per-week  native-country  Income  \n",
              "0       Adm-clerical     1    1       -0.035429               1       0  \n",
              "1    Exec-managerial     1    1       -2.222153               1       0  \n",
              "2  Handlers-cleaners     1    1       -0.035429               1       0  \n",
              "3  Handlers-cleaners     0    1       -0.035429               1       0  \n",
              "4     Prof-specialty     0    0       -0.035429               0       0  "
            ]
          },
          "metadata": {
            "tags": []
          },
          "execution_count": 46
        }
      ]
    },
    {
      "cell_type": "code",
      "metadata": {
        "id": "7lrQm8R9_qoa"
      },
      "source": [
        "lis1 =counts('marital-status').index\n",
        "lis2 =counts('occupation').index\n",
        "lis3 =counts('education').index"
      ],
      "execution_count": 47,
      "outputs": []
    },
    {
      "cell_type": "code",
      "metadata": {
        "id": "CYOVm1CY3ccL"
      },
      "source": [
        "features['marital-status'] = features['marital-status'].replace(lis1,[1,2,3,4])\n",
        "features['occupation'] = features['occupation'].replace(lis2,[1,2,3,4,5,6,7,8,9,10,11,12,13,14])\n",
        "features['education'] = features['education'].replace(lis3,[1,2,3,4,5,6,7,8,9])"
      ],
      "execution_count": 48,
      "outputs": []
    },
    {
      "cell_type": "code",
      "metadata": {
        "colab": {
          "base_uri": "https://localhost:8080/",
          "height": 203
        },
        "id": "fmQxBkj-6D2i",
        "outputId": "bd06e9ba-b98b-4bde-96f6-6b0e7da5cc73"
      },
      "source": [
        "features.head()"
      ],
      "execution_count": 49,
      "outputs": [
        {
          "output_type": "execute_result",
          "data": {
            "text/html": [
              "<div>\n",
              "<style scoped>\n",
              "    .dataframe tbody tr th:only-of-type {\n",
              "        vertical-align: middle;\n",
              "    }\n",
              "\n",
              "    .dataframe tbody tr th {\n",
              "        vertical-align: top;\n",
              "    }\n",
              "\n",
              "    .dataframe thead th {\n",
              "        text-align: right;\n",
              "    }\n",
              "</style>\n",
              "<table border=\"1\" class=\"dataframe\">\n",
              "  <thead>\n",
              "    <tr style=\"text-align: right;\">\n",
              "      <th></th>\n",
              "      <th>age</th>\n",
              "      <th>workclass</th>\n",
              "      <th>education</th>\n",
              "      <th>education-num</th>\n",
              "      <th>marital-status</th>\n",
              "      <th>occupation</th>\n",
              "      <th>race</th>\n",
              "      <th>sex</th>\n",
              "      <th>hours-per-week</th>\n",
              "      <th>native-country</th>\n",
              "      <th>Income</th>\n",
              "    </tr>\n",
              "  </thead>\n",
              "  <tbody>\n",
              "    <tr>\n",
              "      <th>0</th>\n",
              "      <td>0.030671</td>\n",
              "      <td>0</td>\n",
              "      <td>3</td>\n",
              "      <td>3</td>\n",
              "      <td>1</td>\n",
              "      <td>4</td>\n",
              "      <td>1</td>\n",
              "      <td>1</td>\n",
              "      <td>-0.035429</td>\n",
              "      <td>1</td>\n",
              "      <td>0</td>\n",
              "    </tr>\n",
              "    <tr>\n",
              "      <th>1</th>\n",
              "      <td>0.837109</td>\n",
              "      <td>0</td>\n",
              "      <td>3</td>\n",
              "      <td>3</td>\n",
              "      <td>1</td>\n",
              "      <td>3</td>\n",
              "      <td>1</td>\n",
              "      <td>1</td>\n",
              "      <td>-2.222153</td>\n",
              "      <td>1</td>\n",
              "      <td>0</td>\n",
              "    </tr>\n",
              "    <tr>\n",
              "      <th>2</th>\n",
              "      <td>-0.042642</td>\n",
              "      <td>1</td>\n",
              "      <td>1</td>\n",
              "      <td>2</td>\n",
              "      <td>2</td>\n",
              "      <td>9</td>\n",
              "      <td>1</td>\n",
              "      <td>1</td>\n",
              "      <td>-0.035429</td>\n",
              "      <td>1</td>\n",
              "      <td>0</td>\n",
              "    </tr>\n",
              "    <tr>\n",
              "      <th>3</th>\n",
              "      <td>1.057047</td>\n",
              "      <td>1</td>\n",
              "      <td>4</td>\n",
              "      <td>2</td>\n",
              "      <td>1</td>\n",
              "      <td>9</td>\n",
              "      <td>0</td>\n",
              "      <td>1</td>\n",
              "      <td>-0.035429</td>\n",
              "      <td>1</td>\n",
              "      <td>0</td>\n",
              "    </tr>\n",
              "    <tr>\n",
              "      <th>4</th>\n",
              "      <td>-0.775768</td>\n",
              "      <td>1</td>\n",
              "      <td>3</td>\n",
              "      <td>3</td>\n",
              "      <td>1</td>\n",
              "      <td>1</td>\n",
              "      <td>0</td>\n",
              "      <td>0</td>\n",
              "      <td>-0.035429</td>\n",
              "      <td>0</td>\n",
              "      <td>0</td>\n",
              "    </tr>\n",
              "  </tbody>\n",
              "</table>\n",
              "</div>"
            ],
            "text/plain": [
              "        age  workclass  education  education-num  marital-status  occupation  \\\n",
              "0  0.030671          0          3              3               1           4   \n",
              "1  0.837109          0          3              3               1           3   \n",
              "2 -0.042642          1          1              2               2           9   \n",
              "3  1.057047          1          4              2               1           9   \n",
              "4 -0.775768          1          3              3               1           1   \n",
              "\n",
              "   race  sex  hours-per-week  native-country  Income  \n",
              "0     1    1       -0.035429               1       0  \n",
              "1     1    1       -2.222153               1       0  \n",
              "2     1    1       -0.035429               1       0  \n",
              "3     0    1       -0.035429               1       0  \n",
              "4     0    0       -0.035429               0       0  "
            ]
          },
          "metadata": {
            "tags": []
          },
          "execution_count": 49
        }
      ]
    },
    {
      "cell_type": "code",
      "metadata": {
        "id": "a3zJAqOr6IBM"
      },
      "source": [
        "X= features.drop(['Income'],axis=1)\n",
        "y = features['Income']"
      ],
      "execution_count": 50,
      "outputs": []
    },
    {
      "cell_type": "code",
      "metadata": {
        "colab": {
          "base_uri": "https://localhost:8080/",
          "height": 203
        },
        "id": "qwM-7Wl66Swc",
        "outputId": "2e36d557-c92b-49d7-f758-b7cd13eab05f"
      },
      "source": [
        "X.head()"
      ],
      "execution_count": 51,
      "outputs": [
        {
          "output_type": "execute_result",
          "data": {
            "text/html": [
              "<div>\n",
              "<style scoped>\n",
              "    .dataframe tbody tr th:only-of-type {\n",
              "        vertical-align: middle;\n",
              "    }\n",
              "\n",
              "    .dataframe tbody tr th {\n",
              "        vertical-align: top;\n",
              "    }\n",
              "\n",
              "    .dataframe thead th {\n",
              "        text-align: right;\n",
              "    }\n",
              "</style>\n",
              "<table border=\"1\" class=\"dataframe\">\n",
              "  <thead>\n",
              "    <tr style=\"text-align: right;\">\n",
              "      <th></th>\n",
              "      <th>age</th>\n",
              "      <th>workclass</th>\n",
              "      <th>education</th>\n",
              "      <th>education-num</th>\n",
              "      <th>marital-status</th>\n",
              "      <th>occupation</th>\n",
              "      <th>race</th>\n",
              "      <th>sex</th>\n",
              "      <th>hours-per-week</th>\n",
              "      <th>native-country</th>\n",
              "    </tr>\n",
              "  </thead>\n",
              "  <tbody>\n",
              "    <tr>\n",
              "      <th>0</th>\n",
              "      <td>0.030671</td>\n",
              "      <td>0</td>\n",
              "      <td>3</td>\n",
              "      <td>3</td>\n",
              "      <td>1</td>\n",
              "      <td>4</td>\n",
              "      <td>1</td>\n",
              "      <td>1</td>\n",
              "      <td>-0.035429</td>\n",
              "      <td>1</td>\n",
              "    </tr>\n",
              "    <tr>\n",
              "      <th>1</th>\n",
              "      <td>0.837109</td>\n",
              "      <td>0</td>\n",
              "      <td>3</td>\n",
              "      <td>3</td>\n",
              "      <td>1</td>\n",
              "      <td>3</td>\n",
              "      <td>1</td>\n",
              "      <td>1</td>\n",
              "      <td>-2.222153</td>\n",
              "      <td>1</td>\n",
              "    </tr>\n",
              "    <tr>\n",
              "      <th>2</th>\n",
              "      <td>-0.042642</td>\n",
              "      <td>1</td>\n",
              "      <td>1</td>\n",
              "      <td>2</td>\n",
              "      <td>2</td>\n",
              "      <td>9</td>\n",
              "      <td>1</td>\n",
              "      <td>1</td>\n",
              "      <td>-0.035429</td>\n",
              "      <td>1</td>\n",
              "    </tr>\n",
              "    <tr>\n",
              "      <th>3</th>\n",
              "      <td>1.057047</td>\n",
              "      <td>1</td>\n",
              "      <td>4</td>\n",
              "      <td>2</td>\n",
              "      <td>1</td>\n",
              "      <td>9</td>\n",
              "      <td>0</td>\n",
              "      <td>1</td>\n",
              "      <td>-0.035429</td>\n",
              "      <td>1</td>\n",
              "    </tr>\n",
              "    <tr>\n",
              "      <th>4</th>\n",
              "      <td>-0.775768</td>\n",
              "      <td>1</td>\n",
              "      <td>3</td>\n",
              "      <td>3</td>\n",
              "      <td>1</td>\n",
              "      <td>1</td>\n",
              "      <td>0</td>\n",
              "      <td>0</td>\n",
              "      <td>-0.035429</td>\n",
              "      <td>0</td>\n",
              "    </tr>\n",
              "  </tbody>\n",
              "</table>\n",
              "</div>"
            ],
            "text/plain": [
              "        age  workclass  education  education-num  marital-status  occupation  \\\n",
              "0  0.030671          0          3              3               1           4   \n",
              "1  0.837109          0          3              3               1           3   \n",
              "2 -0.042642          1          1              2               2           9   \n",
              "3  1.057047          1          4              2               1           9   \n",
              "4 -0.775768          1          3              3               1           1   \n",
              "\n",
              "   race  sex  hours-per-week  native-country  \n",
              "0     1    1       -0.035429               1  \n",
              "1     1    1       -2.222153               1  \n",
              "2     1    1       -0.035429               1  \n",
              "3     0    1       -0.035429               1  \n",
              "4     0    0       -0.035429               0  "
            ]
          },
          "metadata": {
            "tags": []
          },
          "execution_count": 51
        }
      ]
    },
    {
      "cell_type": "code",
      "metadata": {
        "colab": {
          "base_uri": "https://localhost:8080/"
        },
        "id": "Dx2AoedD6S9U",
        "outputId": "8e0fdfbb-1a0b-4b63-d731-aae8bc0df24b"
      },
      "source": [
        "y.head()"
      ],
      "execution_count": 52,
      "outputs": [
        {
          "output_type": "execute_result",
          "data": {
            "text/plain": [
              "0    0\n",
              "1    0\n",
              "2    0\n",
              "3    0\n",
              "4    0\n",
              "Name: Income, dtype: int64"
            ]
          },
          "metadata": {
            "tags": []
          },
          "execution_count": 52
        }
      ]
    },
    {
      "cell_type": "code",
      "metadata": {
        "id": "QRTZSPP03KKl"
      },
      "source": [
        "X_train, X_test, y_train, y_test = train_test_split(X, y, test_size=0.2, random_state=42)\n",
        "\n",
        "X_train = X_train.values\n",
        "X_test = X_test.values\n",
        "y_train = y_train.values\n",
        "y_test = y_test.values"
      ],
      "execution_count": 53,
      "outputs": []
    },
    {
      "cell_type": "markdown",
      "metadata": {
        "id": "7oK19DyyFfvL"
      },
      "source": [
        "# **Model Training**"
      ]
    },
    {
      "cell_type": "code",
      "metadata": {
        "colab": {
          "base_uri": "https://localhost:8080/"
        },
        "id": "sdhaXwab3NRq",
        "outputId": "1adbad13-bb07-44b3-c09d-d891d034a4a5"
      },
      "source": [
        "classifiers = {\n",
        "    \"LogisiticRegression\": LogisticRegression(),\n",
        "    \"KNearest\": KNeighborsClassifier(),\n",
        "    \"Support Vector Classifier\": SVC(),\n",
        "    \"DecisionTreeClassifier\": DecisionTreeClassifier()\n",
        "}\n",
        "\n",
        "\n",
        "for key, classifier in classifiers.items():\n",
        "    classifier.fit(X_train, y_train)\n",
        "    training_score = cross_val_score(classifier, X_train, y_train, cv=5,)\n",
        "    print(\"Classifiers: \", classifier.__class__.__name__, \"Has a training score of\", round(training_score.mean(), 2) * 100, \"% accuracy score\")"
      ],
      "execution_count": 54,
      "outputs": [
        {
          "output_type": "stream",
          "text": [
            "Classifiers:  LogisticRegression Has a training score of 80.0 % accuracy score\n",
            "Classifiers:  KNeighborsClassifier Has a training score of 80.0 % accuracy score\n",
            "Classifiers:  SVC Has a training score of 81.0 % accuracy score\n",
            "Classifiers:  DecisionTreeClassifier Has a training score of 76.0 % accuracy score\n"
          ],
          "name": "stdout"
        }
      ]
    },
    {
      "cell_type": "markdown",
      "metadata": {
        "id": "qNWzJLd1FrMi"
      },
      "source": [
        "# **Accuracy Report**"
      ]
    },
    {
      "cell_type": "code",
      "metadata": {
        "id": "Yv9_UjGTfNDx"
      },
      "source": [
        "# !pip install pycaret\n",
        "from pycaret import classification"
      ],
      "execution_count": 56,
      "outputs": []
    },
    {
      "cell_type": "code",
      "metadata": {
        "colab": {
          "base_uri": "https://localhost:8080/",
          "height": 550,
          "referenced_widgets": [
            "4026c392171c43e2a70eb3711d817ebd",
            "e6f80d3aef514b98be845ac490a90cbd",
            "7bbef9ef0bcc491b802af7e9a2d2e75d",
            "86ab61bb040f473f9b67087fddfa6f2f",
            "799b2a7b30ca45058e9443a4557c9ac2",
            "abd8bcbd9230403bb7164f6dd2764a2f",
            "c535a2cb12004bab80c6eb33b37f4e9f",
            "6c57c06974bf4dd7a59bd3286787cc14",
            "38892ef1bc0e4950ad6cbeda18a7e58e"
          ]
        },
        "id": "2X6XnqqWfRYV",
        "outputId": "cc4cab84-2f0e-4264-ef61-175a0530d561"
      },
      "source": [
        "modified_data = pd.concat((X,y),axis=1)\n",
        "classification_setup = classification.setup(data= modified_data, target='Income')\n",
        "classification.compare_models()"
      ],
      "execution_count": 58,
      "outputs": [
        {
          "output_type": "display_data",
          "data": {
            "text/html": [
              "<div>\n",
              "<style scoped>\n",
              "    .dataframe tbody tr th:only-of-type {\n",
              "        vertical-align: middle;\n",
              "    }\n",
              "\n",
              "    .dataframe tbody tr th {\n",
              "        vertical-align: top;\n",
              "    }\n",
              "\n",
              "    .dataframe thead th {\n",
              "        text-align: right;\n",
              "    }\n",
              "</style>\n",
              "<table border=\"1\" class=\"dataframe\">\n",
              "  <thead>\n",
              "    <tr style=\"text-align: right;\">\n",
              "      <th></th>\n",
              "      <th>Model</th>\n",
              "      <th>Accuracy</th>\n",
              "      <th>AUC</th>\n",
              "      <th>Recall</th>\n",
              "      <th>Prec.</th>\n",
              "      <th>F1</th>\n",
              "      <th>Kappa</th>\n",
              "      <th>MCC</th>\n",
              "      <th>TT (Sec)</th>\n",
              "    </tr>\n",
              "  </thead>\n",
              "  <tbody>\n",
              "    <tr>\n",
              "      <th>lightgbm</th>\n",
              "      <td>Light Gradient Boosting Machine</td>\n",
              "      <td>0.8224</td>\n",
              "      <td>0.8626</td>\n",
              "      <td>0.5062</td>\n",
              "      <td>0.6698</td>\n",
              "      <td>0.5763</td>\n",
              "      <td>0.4667</td>\n",
              "      <td>0.4743</td>\n",
              "      <td>0.300</td>\n",
              "    </tr>\n",
              "    <tr>\n",
              "      <th>gbc</th>\n",
              "      <td>Gradient Boosting Classifier</td>\n",
              "      <td>0.8212</td>\n",
              "      <td>0.8622</td>\n",
              "      <td>0.4721</td>\n",
              "      <td>0.6813</td>\n",
              "      <td>0.5573</td>\n",
              "      <td>0.4499</td>\n",
              "      <td>0.4620</td>\n",
              "      <td>1.786</td>\n",
              "    </tr>\n",
              "    <tr>\n",
              "      <th>ada</th>\n",
              "      <td>Ada Boost Classifier</td>\n",
              "      <td>0.8194</td>\n",
              "      <td>0.8593</td>\n",
              "      <td>0.4869</td>\n",
              "      <td>0.6666</td>\n",
              "      <td>0.5626</td>\n",
              "      <td>0.4523</td>\n",
              "      <td>0.4612</td>\n",
              "      <td>0.638</td>\n",
              "    </tr>\n",
              "    <tr>\n",
              "      <th>lr</th>\n",
              "      <td>Logistic Regression</td>\n",
              "      <td>0.8130</td>\n",
              "      <td>0.8433</td>\n",
              "      <td>0.4397</td>\n",
              "      <td>0.6638</td>\n",
              "      <td>0.5288</td>\n",
              "      <td>0.4181</td>\n",
              "      <td>0.4320</td>\n",
              "      <td>0.663</td>\n",
              "    </tr>\n",
              "    <tr>\n",
              "      <th>lda</th>\n",
              "      <td>Linear Discriminant Analysis</td>\n",
              "      <td>0.8112</td>\n",
              "      <td>0.8386</td>\n",
              "      <td>0.4414</td>\n",
              "      <td>0.6556</td>\n",
              "      <td>0.5273</td>\n",
              "      <td>0.4150</td>\n",
              "      <td>0.4278</td>\n",
              "      <td>0.159</td>\n",
              "    </tr>\n",
              "    <tr>\n",
              "      <th>ridge</th>\n",
              "      <td>Ridge Classifier</td>\n",
              "      <td>0.8102</td>\n",
              "      <td>0.0000</td>\n",
              "      <td>0.3722</td>\n",
              "      <td>0.6896</td>\n",
              "      <td>0.4833</td>\n",
              "      <td>0.3795</td>\n",
              "      <td>0.4067</td>\n",
              "      <td>0.042</td>\n",
              "    </tr>\n",
              "    <tr>\n",
              "      <th>svm</th>\n",
              "      <td>SVM - Linear Kernel</td>\n",
              "      <td>0.8069</td>\n",
              "      <td>0.0000</td>\n",
              "      <td>0.4256</td>\n",
              "      <td>0.6530</td>\n",
              "      <td>0.5086</td>\n",
              "      <td>0.3964</td>\n",
              "      <td>0.4137</td>\n",
              "      <td>0.123</td>\n",
              "    </tr>\n",
              "    <tr>\n",
              "      <th>knn</th>\n",
              "      <td>K Neighbors Classifier</td>\n",
              "      <td>0.7994</td>\n",
              "      <td>0.8001</td>\n",
              "      <td>0.5057</td>\n",
              "      <td>0.5942</td>\n",
              "      <td>0.5462</td>\n",
              "      <td>0.4186</td>\n",
              "      <td>0.4209</td>\n",
              "      <td>1.324</td>\n",
              "    </tr>\n",
              "    <tr>\n",
              "      <th>rf</th>\n",
              "      <td>Random Forest Classifier</td>\n",
              "      <td>0.7938</td>\n",
              "      <td>0.8199</td>\n",
              "      <td>0.4972</td>\n",
              "      <td>0.5797</td>\n",
              "      <td>0.5351</td>\n",
              "      <td>0.4037</td>\n",
              "      <td>0.4058</td>\n",
              "      <td>1.944</td>\n",
              "    </tr>\n",
              "    <tr>\n",
              "      <th>et</th>\n",
              "      <td>Extra Trees Classifier</td>\n",
              "      <td>0.7847</td>\n",
              "      <td>0.7728</td>\n",
              "      <td>0.4789</td>\n",
              "      <td>0.5574</td>\n",
              "      <td>0.5150</td>\n",
              "      <td>0.3777</td>\n",
              "      <td>0.3796</td>\n",
              "      <td>2.114</td>\n",
              "    </tr>\n",
              "    <tr>\n",
              "      <th>dt</th>\n",
              "      <td>Decision Tree Classifier</td>\n",
              "      <td>0.7597</td>\n",
              "      <td>0.6909</td>\n",
              "      <td>0.4651</td>\n",
              "      <td>0.4969</td>\n",
              "      <td>0.4801</td>\n",
              "      <td>0.3242</td>\n",
              "      <td>0.3247</td>\n",
              "      <td>0.096</td>\n",
              "    </tr>\n",
              "    <tr>\n",
              "      <th>qda</th>\n",
              "      <td>Quadratic Discriminant Analysis</td>\n",
              "      <td>0.6468</td>\n",
              "      <td>0.5596</td>\n",
              "      <td>0.3926</td>\n",
              "      <td>0.3074</td>\n",
              "      <td>0.3028</td>\n",
              "      <td>0.1017</td>\n",
              "      <td>0.1132</td>\n",
              "      <td>0.077</td>\n",
              "    </tr>\n",
              "    <tr>\n",
              "      <th>nb</th>\n",
              "      <td>Naive Bayes</td>\n",
              "      <td>0.5457</td>\n",
              "      <td>0.7968</td>\n",
              "      <td>0.9101</td>\n",
              "      <td>0.3345</td>\n",
              "      <td>0.4891</td>\n",
              "      <td>0.2150</td>\n",
              "      <td>0.3054</td>\n",
              "      <td>0.045</td>\n",
              "    </tr>\n",
              "  </tbody>\n",
              "</table>\n",
              "</div>"
            ],
            "text/plain": [
              "                                    Model  Accuracy     AUC  Recall   Prec.  \\\n",
              "lightgbm  Light Gradient Boosting Machine    0.8224  0.8626  0.5062  0.6698   \n",
              "gbc          Gradient Boosting Classifier    0.8212  0.8622  0.4721  0.6813   \n",
              "ada                  Ada Boost Classifier    0.8194  0.8593  0.4869  0.6666   \n",
              "lr                    Logistic Regression    0.8130  0.8433  0.4397  0.6638   \n",
              "lda          Linear Discriminant Analysis    0.8112  0.8386  0.4414  0.6556   \n",
              "ridge                    Ridge Classifier    0.8102  0.0000  0.3722  0.6896   \n",
              "svm                   SVM - Linear Kernel    0.8069  0.0000  0.4256  0.6530   \n",
              "knn                K Neighbors Classifier    0.7994  0.8001  0.5057  0.5942   \n",
              "rf               Random Forest Classifier    0.7938  0.8199  0.4972  0.5797   \n",
              "et                 Extra Trees Classifier    0.7847  0.7728  0.4789  0.5574   \n",
              "dt               Decision Tree Classifier    0.7597  0.6909  0.4651  0.4969   \n",
              "qda       Quadratic Discriminant Analysis    0.6468  0.5596  0.3926  0.3074   \n",
              "nb                            Naive Bayes    0.5457  0.7968  0.9101  0.3345   \n",
              "\n",
              "              F1   Kappa     MCC  TT (Sec)  \n",
              "lightgbm  0.5763  0.4667  0.4743     0.300  \n",
              "gbc       0.5573  0.4499  0.4620     1.786  \n",
              "ada       0.5626  0.4523  0.4612     0.638  \n",
              "lr        0.5288  0.4181  0.4320     0.663  \n",
              "lda       0.5273  0.4150  0.4278     0.159  \n",
              "ridge     0.4833  0.3795  0.4067     0.042  \n",
              "svm       0.5086  0.3964  0.4137     0.123  \n",
              "knn       0.5462  0.4186  0.4209     1.324  \n",
              "rf        0.5351  0.4037  0.4058     1.944  \n",
              "et        0.5150  0.3777  0.3796     2.114  \n",
              "dt        0.4801  0.3242  0.3247     0.096  \n",
              "qda       0.3028  0.1017  0.1132     0.077  \n",
              "nb        0.4891  0.2150  0.3054     0.045  "
            ]
          },
          "metadata": {
            "tags": []
          }
        },
        {
          "output_type": "execute_result",
          "data": {
            "text/plain": [
              "LGBMClassifier(boosting_type='gbdt', class_weight=None, colsample_bytree=1.0,\n",
              "               importance_type='split', learning_rate=0.1, max_depth=-1,\n",
              "               min_child_samples=20, min_child_weight=0.001, min_split_gain=0.0,\n",
              "               n_estimators=100, n_jobs=-1, num_leaves=31, objective=None,\n",
              "               random_state=3936, reg_alpha=0.0, reg_lambda=0.0, silent=True,\n",
              "               subsample=1.0, subsample_for_bin=200000, subsample_freq=0)"
            ]
          },
          "metadata": {
            "tags": []
          },
          "execution_count": 58
        }
      ]
    },
    {
      "cell_type": "markdown",
      "metadata": {
        "id": "XTSEcR5zmh_y"
      },
      "source": [
        "# Gradient Boosting Classifier has highest accuracy of 82%"
      ]
    }
  ]
}